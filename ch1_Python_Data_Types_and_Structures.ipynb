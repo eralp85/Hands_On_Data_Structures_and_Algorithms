{
 "cells": [
  {
   "cell_type": "markdown",
   "source": [
    "# PYTHON DATA TYPES and STRUCTURES"
   ],
   "metadata": {
    "collapsed": false
   },
   "id": "d0ad93db953ebb2a"
  },
  {
   "cell_type": "markdown",
   "source": [
    "An algorithm can be defined as a set of step by step instructions to solve any given problem.\n",
    "\n",
    "An algorithm processes the data and produces the output results based on the specific problem.\n",
    "\n",
    "Data structures deal with how the data is stored and organized in the memory of computer that is going to be used in a program. \n",
    "\n",
    "The data used by the algorithm to solve problem has to be stored and organized efficiently in the computer memory for the efficient implementation of the software.\n",
    "\n",
    "The performance of the system depends upon the efficient access and retrival of the data, and that depends upon how well the data structures that store and organize the data in the system are chosen.\n"
   ],
   "metadata": {
    "collapsed": false
   },
   "id": "4bf9471c34126208"
  },
  {
   "cell_type": "markdown",
   "source": [
    "# Overview of Data Types and Objects"
   ],
   "metadata": {
    "collapsed": false
   },
   "id": "a7942175b92dbecc"
  },
  {
   "cell_type": "markdown",
   "source": [
    "The performance or efficiency of the computer program also depends highly on how the data is stored in the memory of a computer, which is then going to be used in the algorithm.\n",
    "\n",
    "The data to be used in an algorithm has to be stored in variables, which differ depending upon what kind of values are going to be stored in those variables.\n",
    "\n",
    "These are called **data types**.\n",
    "\n",
    "The variables are containers that can store the values, and the values are the contents of different data types.\n",
    "\n",
    "In Python, data types of the variable type can be checked using the type() function. "
   ],
   "metadata": {
    "collapsed": false
   },
   "id": "82b8ddda3ef90f6d"
  },
  {
   "cell_type": "code",
   "execution_count": 1,
   "outputs": [],
   "source": [
    "p = \"Hello World\"\n",
    "q = 10\n",
    "r = 986.89"
   ],
   "metadata": {
    "collapsed": false,
    "ExecuteTime": {
     "end_time": "2024-02-03T06:45:29.000433200Z",
     "start_time": "2024-02-03T06:45:23.106115300Z"
    }
   },
   "id": "5338b90a0887e7f8"
  },
  {
   "cell_type": "code",
   "execution_count": 2,
   "outputs": [
    {
     "name": "stdout",
     "output_type": "stream",
     "text": [
      "<class 'str'>\n",
      "<class 'int'>\n",
      "<class 'float'>\n"
     ]
    }
   ],
   "source": [
    "print(type(p))\n",
    "print(type(q))\n",
    "print(type(r))"
   ],
   "metadata": {
    "collapsed": false,
    "ExecuteTime": {
     "end_time": "2024-02-03T06:45:29.000433200Z",
     "start_time": "2024-02-03T06:45:23.115109700Z"
    }
   },
   "id": "d1bf43a6b9f9a3be"
  },
  {
   "cell_type": "markdown",
   "source": [
    "In Python, every item of data is an object of a specific type.\n",
    "\n",
    "The principal built-in types are as follows and will be discussed in more detail in the following sections:\n",
    "\n",
    "- Numeric Types: Integer, Float, Complex\n",
    "- Boolean Type: Bool\n",
    "- Sequence Types: String, List, Tuple, Range\n",
    "- Mapping Type: Dictionary\n",
    "- Set Types: Set, Frozen Set\n"
   ],
   "metadata": {
    "collapsed": false
   },
   "id": "fb27052f4d9896f7"
  },
  {
   "cell_type": "markdown",
   "source": [
    "# Basic Data Types\n",
    "## Numeric Types"
   ],
   "metadata": {
    "collapsed": false
   },
   "id": "28bd75d8f476f3b0"
  },
  {
   "cell_type": "markdown",
   "source": [
    "Numeric data type variables store numeric values.\n",
    "\n",
    "- $Integer$: The interpreter takes a sequence of decimal digits as a decimal value, such as 45,1000 or -25.\n",
    "\n",
    "- $Float$: The interpreter takes a sequence of decimal digits with a decimal point as a decimal value, such as 45.89, 1000.0 or -25.0.\n",
    "\n",
    "- $Complex$: A complex number is represented using two floating-point values. It contains an ordered pair, such as a + ib. Here, a and b denote real numbers and i denotes the imaginary component. The complex numbers take the form of 3.0 + 1.3i, 4.0i, and so on."
   ],
   "metadata": {
    "collapsed": false
   },
   "id": "7b322ed2ef6bfe9d"
  },
  {
   "cell_type": "markdown",
   "source": [
    "## Boolean Type"
   ],
   "metadata": {
    "collapsed": false
   },
   "id": "91b8cecc4bbdaa30"
  },
  {
   "cell_type": "markdown",
   "source": [
    "Boolean data type provides a value of either True or False, checking whether any statement is true or false.\n",
    "\n",
    "`True` can be represented as any non-zero value, whereas `False` is represented as 0."
   ],
   "metadata": {
    "collapsed": false
   },
   "id": "9c54698c9234f193"
  },
  {
   "cell_type": "code",
   "execution_count": 3,
   "outputs": [
    {
     "name": "stdout",
     "output_type": "stream",
     "text": [
      "<class 'bool'>\n"
     ]
    }
   ],
   "source": [
    "print(type(bool(22)))"
   ],
   "metadata": {
    "collapsed": false,
    "ExecuteTime": {
     "end_time": "2024-02-03T06:45:29.001492900Z",
     "start_time": "2024-02-03T06:45:23.129119500Z"
    }
   },
   "id": "bba723a0ad6dc68e"
  },
  {
   "cell_type": "code",
   "execution_count": 4,
   "outputs": [
    {
     "name": "stdout",
     "output_type": "stream",
     "text": [
      "<class 'bool'>\n"
     ]
    }
   ],
   "source": [
    "print(type(True))"
   ],
   "metadata": {
    "collapsed": false,
    "ExecuteTime": {
     "end_time": "2024-02-03T06:45:29.001492900Z",
     "start_time": "2024-02-03T06:45:23.180117400Z"
    }
   },
   "id": "7a78467a71f06db1"
  },
  {
   "cell_type": "code",
   "execution_count": 5,
   "outputs": [
    {
     "name": "stdout",
     "output_type": "stream",
     "text": [
      "<class 'bool'>\n"
     ]
    }
   ],
   "source": [
    "print(type(False))"
   ],
   "metadata": {
    "collapsed": false,
    "ExecuteTime": {
     "end_time": "2024-02-03T06:45:29.003540400Z",
     "start_time": "2024-02-03T06:45:23.187112100Z"
    }
   },
   "id": "64a35c2ca6357dbe"
  },
  {
   "cell_type": "markdown",
   "source": [
    "## Sequence Types"
   ],
   "metadata": {
    "collapsed": false
   },
   "id": "da7678d63dedb3fe"
  },
  {
   "cell_type": "markdown",
   "source": [
    "Sequence data types are used to store multiple values in a single variable in an organized and efficient way.\n",
    "\n",
    "There are four basic sequence types:\n"
   ],
   "metadata": {
    "collapsed": false
   },
   "id": "fefe06792ebaccd1"
  },
  {
   "cell_type": "markdown",
   "source": [
    "## String"
   ],
   "metadata": {
    "collapsed": false
   },
   "id": "fc629d95c5385c31"
  },
  {
   "cell_type": "markdown",
   "source": [
    "A string is an immutable sequence of characters represented in single, double, or triple quotes.\n",
    "\n",
    "Immutable means that once a data type has been assigned some value, it cannot be changed.\n"
   ],
   "metadata": {
    "collapsed": false
   },
   "id": "5a65cf2c5a0e0a74"
  },
  {
   "cell_type": "code",
   "execution_count": 6,
   "outputs": [
    {
     "name": "stdout",
     "output_type": "stream",
     "text": [
      "Hello World\n",
      "Hello World\n",
      "Multi\n",
      "line String\n"
     ]
    }
   ],
   "source": [
    "str1 = 'Hello World'\n",
    "str2 = \"Hello World\"\n",
    "str3 = \"\"\"Multi\n",
    "line String\"\"\"\n",
    "\n",
    "print(str1)\n",
    "print(str2)\n",
    "print(str3)"
   ],
   "metadata": {
    "collapsed": false,
    "ExecuteTime": {
     "end_time": "2024-02-03T06:45:29.005530200Z",
     "start_time": "2024-02-03T06:45:23.203124500Z"
    }
   },
   "id": "9f72c08a9a875bd2"
  },
  {
   "cell_type": "markdown",
   "source": [
    "The `+` operator is used to concatenate two strings."
   ],
   "metadata": {
    "collapsed": false
   },
   "id": "e1351c37354293d7"
  },
  {
   "cell_type": "code",
   "execution_count": 7,
   "outputs": [
    {
     "name": "stdout",
     "output_type": "stream",
     "text": [
      "John Doe\n",
      "Jane Doe\n"
     ]
    }
   ],
   "source": [
    "first_name = \"John\"\n",
    "last_name = \"Doe\"\n",
    "\n",
    "print(first_name + \" \" + last_name)\n",
    "print(\"Jane\" + \" \" + \"Doe\")"
   ],
   "metadata": {
    "collapsed": false,
    "ExecuteTime": {
     "end_time": "2024-02-03T06:45:29.006641400Z",
     "start_time": "2024-02-03T06:45:23.216115600Z"
    }
   },
   "id": "abfd59c3725dbb9"
  },
  {
   "cell_type": "markdown",
   "source": [
    "The `*` operator is used to repeat the string."
   ],
   "metadata": {
    "collapsed": false
   },
   "id": "6e4df00e6431f7b8"
  },
  {
   "cell_type": "code",
   "execution_count": 8,
   "outputs": [
    {
     "name": "stdout",
     "output_type": "stream",
     "text": [
      "Sevval Sevval Sevval \n"
     ]
    }
   ],
   "source": [
    "st = \"Sevval \"\n",
    "print(st * 3)"
   ],
   "metadata": {
    "collapsed": false,
    "ExecuteTime": {
     "end_time": "2024-02-03T06:45:29.007693500Z",
     "start_time": "2024-02-03T06:45:23.251376400Z"
    }
   },
   "id": "e9146a877057bfe4"
  },
  {
   "cell_type": "markdown",
   "source": [
    "## Range"
   ],
   "metadata": {
    "collapsed": false
   },
   "id": "ca9f6e3ab0481d0f"
  },
  {
   "cell_type": "markdown",
   "source": [
    "The range data type represents an immutable sequence of numbers.\n",
    "\n",
    "It is mainly used in `for` and `while` loops.\n",
    "\n",
    "It returns a sequence of numbers starting form a given number up to a number specified by the function argument.\n",
    "\n",
    "`range(start, stop, step)`"
   ],
   "metadata": {
    "collapsed": false
   },
   "id": "5052e6c8126da9e"
  },
  {
   "cell_type": "code",
   "execution_count": 9,
   "outputs": [
    {
     "name": "stdout",
     "output_type": "stream",
     "text": [
      "[0, 1, 2, 3, 4, 5, 6, 7, 8, 9]\n"
     ]
    }
   ],
   "source": [
    "print(list(range(10)))"
   ],
   "metadata": {
    "collapsed": false,
    "ExecuteTime": {
     "end_time": "2024-02-03T06:45:29.008695300Z",
     "start_time": "2024-02-03T06:45:23.277543700Z"
    }
   },
   "id": "626fc60258c3ebe1"
  },
  {
   "cell_type": "code",
   "execution_count": 10,
   "outputs": [
    {
     "name": "stdout",
     "output_type": "stream",
     "text": [
      "range(0, 10)\n"
     ]
    }
   ],
   "source": [
    "print(range(10))"
   ],
   "metadata": {
    "collapsed": false,
    "ExecuteTime": {
     "end_time": "2024-02-03T06:45:29.008695300Z",
     "start_time": "2024-02-03T06:45:23.294794400Z"
    }
   },
   "id": "99f32cff75574ee5"
  },
  {
   "cell_type": "code",
   "execution_count": 11,
   "outputs": [
    {
     "name": "stdout",
     "output_type": "stream",
     "text": [
      "[1, 3, 5, 7, 9]\n"
     ]
    }
   ],
   "source": [
    "print(list(range(1, 10, 2)))"
   ],
   "metadata": {
    "collapsed": false,
    "ExecuteTime": {
     "end_time": "2024-02-03T06:45:29.009699500Z",
     "start_time": "2024-02-03T06:45:23.306203100Z"
    }
   },
   "id": "413f730f6fac01ab"
  },
  {
   "cell_type": "code",
   "execution_count": 12,
   "outputs": [
    {
     "name": "stdout",
     "output_type": "stream",
     "text": [
      "[10, 8, 6, 4, 2]\n"
     ]
    }
   ],
   "source": [
    "print(list(range(10, 1, -2)))"
   ],
   "metadata": {
    "collapsed": false,
    "ExecuteTime": {
     "end_time": "2024-02-03T06:45:29.009699500Z",
     "start_time": "2024-02-03T06:45:23.341065100Z"
    }
   },
   "id": "3042dc8287ea7f6b"
  },
  {
   "cell_type": "markdown",
   "source": [
    "## Lists"
   ],
   "metadata": {
    "collapsed": false
   },
   "id": "c1d44a193d134e61"
  },
  {
   "cell_type": "markdown",
   "source": [
    "Python lists are used to store multiple items in a single variable.\n",
    "\n",
    "Duplicate values are allowed in a list, and elements can be of different types, you can have both numeric and string data in a Python list.\n",
    "\n",
    "The items stored in the list are enclosed within square bracket, [], and separated with a comma.\n"
   ],
   "metadata": {
    "collapsed": false
   },
   "id": "b2f7bc7f17f964e9"
  },
  {
   "cell_type": "code",
   "execution_count": 13,
   "outputs": [
    {
     "name": "stdout",
     "output_type": "stream",
     "text": [
      "[10, 'India', 'world', 8]\n"
     ]
    }
   ],
   "source": [
    "a = [10, \"India\", 'world', 8]\n",
    "print(a)"
   ],
   "metadata": {
    "collapsed": false,
    "ExecuteTime": {
     "end_time": "2024-02-03T06:45:29.009699500Z",
     "start_time": "2024-02-03T06:45:23.369883500Z"
    }
   },
   "id": "1229222901fadb06"
  },
  {
   "cell_type": "code",
   "execution_count": 14,
   "outputs": [
    {
     "name": "stdout",
     "output_type": "stream",
     "text": [
      "India\n"
     ]
    }
   ],
   "source": [
    "print(a[1])"
   ],
   "metadata": {
    "collapsed": false,
    "ExecuteTime": {
     "end_time": "2024-02-03T06:45:29.010685600Z",
     "start_time": "2024-02-03T06:45:23.396866200Z"
    }
   },
   "id": "3f232b0eae3cbaef"
  },
  {
   "cell_type": "markdown",
   "source": [
    "The list elements can be accessed by its index number. The list elements are ordered and dynamic.\n",
    "\n",
    "It can contain any arbitrary object that are so desired.\n",
    "\n",
    "In addition, the list data structure is mutable, whereas most of the other data types, such as integer and float, are immutable.\n",
    "\n",
    "Seeing as a list is a mutable data type, once created the list elements can be added, deleted, shifted and moved with the list.\n",
    "\n"
   ],
   "metadata": {
    "collapsed": false
   },
   "id": "54b08c0794fd9352"
  },
  {
   "cell_type": "markdown",
   "source": [
    "### Properties of Lists"
   ],
   "metadata": {
    "collapsed": false
   },
   "id": "c1bcb91b434ba377"
  },
  {
   "cell_type": "markdown",
   "source": [
    "1-) Lists are ordered.\n",
    "\n",
    "The list elements are ordered in a sequence in which they are specified in the list at the time of defining them.\n",
    "\n",
    "This order does not need to change and remains innate for its lifetime."
   ],
   "metadata": {
    "collapsed": false
   },
   "id": "f584e901ee18f433"
  },
  {
   "cell_type": "code",
   "execution_count": 15,
   "outputs": [
    {
     "data": {
      "text/plain": "False"
     },
     "execution_count": 15,
     "metadata": {},
     "output_type": "execute_result"
    }
   ],
   "source": [
    "ordered1=[10,12,31,14]\n",
    "ordered2=[14,10,31,12]\n",
    "\n",
    "ordered1==ordered2"
   ],
   "metadata": {
    "collapsed": false,
    "ExecuteTime": {
     "end_time": "2024-02-03T06:45:29.012899800Z",
     "start_time": "2024-02-03T06:45:23.416263900Z"
    }
   },
   "id": "95734b3e25281a27"
  },
  {
   "cell_type": "markdown",
   "source": [
    "2-) Lists are dynamic.\n",
    "\n",
    "The list is dynamic, which means that the list elements can be added, deleted, shifted and moved with the list."
   ],
   "metadata": {
    "collapsed": false
   },
   "id": "35ff06f543f2a8fa"
  },
  {
   "cell_type": "code",
   "execution_count": 16,
   "outputs": [],
   "source": [
    "b = ['data', 'and', 'book', 'structure', 'hello', 'st']"
   ],
   "metadata": {
    "collapsed": false,
    "ExecuteTime": {
     "end_time": "2024-02-03T06:45:29.012899800Z",
     "start_time": "2024-02-03T06:45:23.442902Z"
    }
   },
   "id": "433cb7598315b876"
  },
  {
   "cell_type": "code",
   "execution_count": 17,
   "outputs": [],
   "source": [
    "b+=[999]"
   ],
   "metadata": {
    "collapsed": false,
    "ExecuteTime": {
     "end_time": "2024-02-03T06:45:29.012899800Z",
     "start_time": "2024-02-03T06:45:23.463597200Z"
    }
   },
   "id": "ec2cb7f94ec530c1"
  },
  {
   "cell_type": "code",
   "execution_count": 18,
   "outputs": [
    {
     "name": "stdout",
     "output_type": "stream",
     "text": [
      "['data', 'and', 'book', 'structure', 'hello', 'st', 999]\n"
     ]
    }
   ],
   "source": [
    "print(b)"
   ],
   "metadata": {
    "collapsed": false,
    "ExecuteTime": {
     "end_time": "2024-02-03T06:45:29.013879200Z",
     "start_time": "2024-02-03T06:45:23.474874500Z"
    }
   },
   "id": "b6babbf7b7910c88"
  },
  {
   "cell_type": "code",
   "execution_count": 19,
   "outputs": [],
   "source": [
    "b[2:3]=[]"
   ],
   "metadata": {
    "collapsed": false,
    "ExecuteTime": {
     "end_time": "2024-02-03T06:45:29.014886700Z",
     "start_time": "2024-02-03T06:45:23.490286700Z"
    }
   },
   "id": "cc65287badc72f7a"
  },
  {
   "cell_type": "code",
   "execution_count": 20,
   "outputs": [
    {
     "name": "stdout",
     "output_type": "stream",
     "text": [
      "['data', 'and', 'structure', 'hello', 'st', 999]\n"
     ]
    }
   ],
   "source": [
    "print(b)"
   ],
   "metadata": {
    "collapsed": false,
    "ExecuteTime": {
     "end_time": "2024-02-03T06:45:29.015881300Z",
     "start_time": "2024-02-03T06:45:23.504561400Z"
    }
   },
   "id": "f9f37198b1babdeb"
  },
  {
   "cell_type": "code",
   "execution_count": 21,
   "outputs": [],
   "source": [
    "del b[0]"
   ],
   "metadata": {
    "collapsed": false,
    "ExecuteTime": {
     "end_time": "2024-02-03T06:45:29.015881300Z",
     "start_time": "2024-02-03T06:45:23.522057400Z"
    }
   },
   "id": "e6616ad1b06b0d5e"
  },
  {
   "cell_type": "code",
   "execution_count": 22,
   "outputs": [
    {
     "name": "stdout",
     "output_type": "stream",
     "text": [
      "['and', 'structure', 'hello', 'st', 999]\n"
     ]
    }
   ],
   "source": [
    "print(b)"
   ],
   "metadata": {
    "collapsed": false,
    "ExecuteTime": {
     "end_time": "2024-02-03T06:45:29.016971800Z",
     "start_time": "2024-02-03T06:45:23.551774500Z"
    }
   },
   "id": "754d85d430162a10"
  },
  {
   "cell_type": "markdown",
   "source": [
    "3-) List elements can be any arbitrary set of objects.\n",
    "\n",
    "List elements can be of the same type or different data types."
   ],
   "metadata": {
    "collapsed": false
   },
   "id": "a927f52491f55ae8"
  },
  {
   "cell_type": "code",
   "execution_count": 23,
   "outputs": [
    {
     "name": "stdout",
     "output_type": "stream",
     "text": [
      "[2.2, 'python', 31, 14, 'data', True]\n"
     ]
    }
   ],
   "source": [
    "a = [2.2 , \"python\", 31, 14, \"data\", True]\n",
    "print(a)"
   ],
   "metadata": {
    "collapsed": false,
    "ExecuteTime": {
     "end_time": "2024-02-03T06:45:29.018021300Z",
     "start_time": "2024-02-03T06:45:23.568355200Z"
    }
   },
   "id": "f3f465e59de32a68"
  },
  {
   "cell_type": "markdown",
   "source": [
    "4-) List elements can be accessed through an index.\n",
    "\n",
    "Elements can be accessed using zero-based indexing in square brackets, similar to a string.\n",
    "\n",
    "A negative list index counts from the end of the list.\n",
    "\n",
    "Lists also support slicing.\n",
    "\n",
    "If abc is a list, the expression `abc[x:y]` will return the portion of elements from index x to index y (not including index y). "
   ],
   "metadata": {
    "collapsed": false
   },
   "id": "6729c6c35894642e"
  },
  {
   "cell_type": "code",
   "execution_count": 24,
   "outputs": [],
   "source": [
    "a = ['data', 'structures', 'using', 'python', 'happy', 'learning']\n"
   ],
   "metadata": {
    "collapsed": false,
    "ExecuteTime": {
     "end_time": "2024-02-03T06:45:29.018021300Z",
     "start_time": "2024-02-03T06:45:23.597300Z"
    }
   },
   "id": "d5529f3def9c2f0e"
  },
  {
   "cell_type": "code",
   "execution_count": 25,
   "outputs": [
    {
     "name": "stdout",
     "output_type": "stream",
     "text": [
      "data\n"
     ]
    }
   ],
   "source": [
    "print(a[0])"
   ],
   "metadata": {
    "collapsed": false,
    "ExecuteTime": {
     "end_time": "2024-02-03T06:45:29.020027400Z",
     "start_time": "2024-02-03T06:45:23.618413700Z"
    }
   },
   "id": "6df564c99c23e63c"
  },
  {
   "cell_type": "code",
   "execution_count": 26,
   "outputs": [
    {
     "name": "stdout",
     "output_type": "stream",
     "text": [
      "using\n"
     ]
    }
   ],
   "source": [
    "print(a[2])"
   ],
   "metadata": {
    "collapsed": false,
    "ExecuteTime": {
     "end_time": "2024-02-03T06:45:29.021045600Z",
     "start_time": "2024-02-03T06:45:23.653592200Z"
    }
   },
   "id": "5063a85dccdc464b"
  },
  {
   "cell_type": "code",
   "execution_count": 27,
   "outputs": [
    {
     "name": "stdout",
     "output_type": "stream",
     "text": [
      "learning\n"
     ]
    }
   ],
   "source": [
    "print(a[-1])"
   ],
   "metadata": {
    "collapsed": false,
    "ExecuteTime": {
     "end_time": "2024-02-03T06:45:29.022172100Z",
     "start_time": "2024-02-03T06:45:23.677283700Z"
    }
   },
   "id": "38cc5f0e7679f06c"
  },
  {
   "cell_type": "code",
   "execution_count": 28,
   "outputs": [
    {
     "name": "stdout",
     "output_type": "stream",
     "text": [
      "structures\n"
     ]
    }
   ],
   "source": [
    "print(a[-5])"
   ],
   "metadata": {
    "collapsed": false,
    "ExecuteTime": {
     "end_time": "2024-02-03T06:45:29.023210Z",
     "start_time": "2024-02-03T06:45:23.707210700Z"
    }
   },
   "id": "388f9562b0b09dfc"
  },
  {
   "cell_type": "code",
   "execution_count": 29,
   "outputs": [
    {
     "name": "stdout",
     "output_type": "stream",
     "text": [
      "['python', 'happy']\n"
     ]
    }
   ],
   "source": [
    "print(a[-3:-1])"
   ],
   "metadata": {
    "collapsed": false,
    "ExecuteTime": {
     "end_time": "2024-02-03T06:45:29.024199400Z",
     "start_time": "2024-02-03T06:45:23.743461900Z"
    }
   },
   "id": "bc2456883cd9d404"
  },
  {
   "cell_type": "markdown",
   "source": [
    "5-) Lists are mutable.\n",
    "\n",
    "Single list value: Elements in a list can be updated through indexing and simple assignment.\n",
    "\n",
    "Modifying multiple list values is also possible through slicing."
   ],
   "metadata": {
    "collapsed": false
   },
   "id": "87a16012371184e9"
  },
  {
   "cell_type": "code",
   "execution_count": 30,
   "outputs": [],
   "source": [
    "a = ['data', 'and', 'book', 'structure', 'hello', 'st']"
   ],
   "metadata": {
    "collapsed": false,
    "ExecuteTime": {
     "end_time": "2024-02-03T06:45:29.024199400Z",
     "start_time": "2024-02-03T06:45:23.770479400Z"
    }
   },
   "id": "70ea9c60a203e10b"
  },
  {
   "cell_type": "code",
   "execution_count": 31,
   "outputs": [
    {
     "name": "stdout",
     "output_type": "stream",
     "text": [
      "['data', 'and', 'book', 'structure', 'hello', 'st']\n"
     ]
    }
   ],
   "source": [
    "print(a)"
   ],
   "metadata": {
    "collapsed": false,
    "ExecuteTime": {
     "end_time": "2024-02-03T06:45:29.025207200Z",
     "start_time": "2024-02-03T06:45:23.785629900Z"
    }
   },
   "id": "850217d4856d8a56"
  },
  {
   "cell_type": "code",
   "execution_count": 32,
   "outputs": [],
   "source": [
    "a[1] = 1"
   ],
   "metadata": {
    "collapsed": false,
    "ExecuteTime": {
     "end_time": "2024-02-03T06:45:29.025207200Z",
     "start_time": "2024-02-03T06:45:23.805060400Z"
    }
   },
   "id": "be8039a411da159b"
  },
  {
   "cell_type": "code",
   "execution_count": 33,
   "outputs": [
    {
     "name": "stdout",
     "output_type": "stream",
     "text": [
      "['data', 1, 'book', 'structure', 'hello', 'st']\n"
     ]
    }
   ],
   "source": [
    "print(a)"
   ],
   "metadata": {
    "collapsed": false,
    "ExecuteTime": {
     "end_time": "2024-02-03T06:45:29.026208Z",
     "start_time": "2024-02-03T06:45:23.819555500Z"
    }
   },
   "id": "6288d7a82857d34"
  },
  {
   "cell_type": "code",
   "execution_count": 34,
   "outputs": [],
   "source": [
    "a = ['data', 'and', 'book', 'structure', 'hello', 'st']"
   ],
   "metadata": {
    "collapsed": false,
    "ExecuteTime": {
     "end_time": "2024-02-03T06:45:29.027261600Z",
     "start_time": "2024-02-03T06:45:23.850581700Z"
    }
   },
   "id": "c5f999329ae936"
  },
  {
   "cell_type": "code",
   "execution_count": 35,
   "outputs": [],
   "source": [
    "a[2:5] = [1, 2, 3, 4 , 5]"
   ],
   "metadata": {
    "collapsed": false,
    "ExecuteTime": {
     "end_time": "2024-02-03T06:45:29.027261600Z",
     "start_time": "2024-02-03T06:45:23.867022500Z"
    }
   },
   "id": "aff47ce74956ec6b"
  },
  {
   "cell_type": "code",
   "execution_count": 36,
   "outputs": [
    {
     "name": "stdout",
     "output_type": "stream",
     "text": [
      "['data', 'and', 1, 2, 3, 4, 5, 'st']\n"
     ]
    }
   ],
   "source": [
    "print(a)"
   ],
   "metadata": {
    "collapsed": false,
    "ExecuteTime": {
     "end_time": "2024-02-03T06:45:29.028337700Z",
     "start_time": "2024-02-03T06:45:23.878294300Z"
    }
   },
   "id": "9673849ac1e1f4c7"
  },
  {
   "cell_type": "markdown",
   "source": [
    "6-) Lists can use other operators.\n",
    "\n",
    "Several operators and built-in functions can also be applied in lists, such as in, not in, concatenation (+), and replication (*) operators. \n",
    "\n",
    "Moreover, other built-in functions, such as len(), min(), and max(), are also available."
   ],
   "metadata": {
    "collapsed": false
   },
   "id": "89a4d9c1ef110b9f"
  },
  {
   "cell_type": "code",
   "execution_count": 37,
   "outputs": [],
   "source": [
    "a = ['data', 'structures', 'using', 'python', 'happy', 'learning']"
   ],
   "metadata": {
    "collapsed": false,
    "ExecuteTime": {
     "end_time": "2024-02-03T06:45:29.028337700Z",
     "start_time": "2024-02-03T06:45:23.910326300Z"
    }
   },
   "id": "da8536a67eb36f33"
  },
  {
   "cell_type": "code",
   "execution_count": 38,
   "outputs": [
    {
     "name": "stdout",
     "output_type": "stream",
     "text": [
      "True\n"
     ]
    }
   ],
   "source": [
    "print('data' in a)\n"
   ],
   "metadata": {
    "collapsed": false,
    "ExecuteTime": {
     "end_time": "2024-02-03T06:45:29.029343Z",
     "start_time": "2024-02-03T06:45:23.926786100Z"
    }
   },
   "id": "75620105671d0f88"
  },
  {
   "cell_type": "code",
   "execution_count": 39,
   "outputs": [
    {
     "name": "stdout",
     "output_type": "stream",
     "text": [
      "['data', 'structures', 'using', 'python', 'happy', 'learning']\n"
     ]
    }
   ],
   "source": [
    "print(a)"
   ],
   "metadata": {
    "collapsed": false,
    "ExecuteTime": {
     "end_time": "2024-02-03T06:45:29.030330900Z",
     "start_time": "2024-02-03T06:45:23.940066300Z"
    }
   },
   "id": "980752ffc4af1ff1"
  },
  {
   "cell_type": "code",
   "execution_count": 40,
   "outputs": [
    {
     "name": "stdout",
     "output_type": "stream",
     "text": [
      "['data', 'structures', 'using', 'python', 'happy', 'learning', 'New', 'element']\n"
     ]
    }
   ],
   "source": [
    "print(a + ['New', 'element'])"
   ],
   "metadata": {
    "collapsed": false,
    "ExecuteTime": {
     "end_time": "2024-02-03T06:45:29.031307300Z",
     "start_time": "2024-02-03T06:45:23.951381200Z"
    }
   },
   "id": "91ad37988fc9209e"
  },
  {
   "cell_type": "code",
   "execution_count": 41,
   "outputs": [
    {
     "name": "stdout",
     "output_type": "stream",
     "text": [
      "['data', 'structures', 'using', 'python', 'happy', 'learning']\n"
     ]
    }
   ],
   "source": [
    "print(a)"
   ],
   "metadata": {
    "collapsed": false,
    "ExecuteTime": {
     "end_time": "2024-02-03T06:45:29.031307300Z",
     "start_time": "2024-02-03T06:45:23.986541600Z"
    }
   },
   "id": "4924cd38652269a9"
  },
  {
   "cell_type": "code",
   "execution_count": 42,
   "outputs": [
    {
     "name": "stdout",
     "output_type": "stream",
     "text": [
      "['data', 'structures', 'using', 'python', 'happy', 'learning', 'data', 'structures', 'using', 'python', 'happy', 'learning']\n"
     ]
    }
   ],
   "source": [
    "print(a * 2)"
   ],
   "metadata": {
    "collapsed": false,
    "ExecuteTime": {
     "end_time": "2024-02-03T06:45:29.032504600Z",
     "start_time": "2024-02-03T06:45:24.001863500Z"
    }
   },
   "id": "a68a46b632fb4309"
  },
  {
   "cell_type": "code",
   "execution_count": 43,
   "outputs": [
    {
     "name": "stdout",
     "output_type": "stream",
     "text": [
      "6\n"
     ]
    }
   ],
   "source": [
    "print(len(a))"
   ],
   "metadata": {
    "collapsed": false,
    "ExecuteTime": {
     "end_time": "2024-02-03T06:45:29.033535900Z",
     "start_time": "2024-02-03T06:45:24.018273100Z"
    }
   },
   "id": "6fb4a1f18c7f1571"
  },
  {
   "cell_type": "code",
   "execution_count": 44,
   "outputs": [
    {
     "name": "stdout",
     "output_type": "stream",
     "text": [
      "data\n"
     ]
    }
   ],
   "source": [
    "print(min(a))"
   ],
   "metadata": {
    "collapsed": false,
    "ExecuteTime": {
     "end_time": "2024-02-03T06:45:29.034536500Z",
     "start_time": "2024-02-03T06:45:24.030739800Z"
    }
   },
   "id": "aa7b050f4d3e0068"
  },
  {
   "cell_type": "markdown",
   "source": [
    "# Membership, Identity, and Logical Operators"
   ],
   "metadata": {
    "collapsed": false
   },
   "id": "4bafd11967dc9129"
  },
  {
   "cell_type": "markdown",
   "source": [
    "## Membership Operators\n",
    "\n"
   ],
   "metadata": {
    "collapsed": false
   },
   "id": "bce6fd119de55a9e"
  },
  {
   "cell_type": "markdown",
   "source": [
    "These operators are used to validate the membership of an item.\n",
    "\n",
    "Membership means we wish to test if a given value is stored in the sequence variable, such as string, list or tuple.\n",
    "\n",
    "Two common membership operators used in Python are `in` and `not in`.\n",
    "\n"
   ],
   "metadata": {
    "collapsed": false
   },
   "id": "e598280d21ebb6f"
  },
  {
   "cell_type": "markdown",
   "source": [
    "The `in` operator is used to check whether a value exists in a sequence.\n",
    "\n",
    "It returns `True` if it find the given variable in the specified sequence, and `False` if it does not."
   ],
   "metadata": {
    "collapsed": false
   },
   "id": "f6832c72bb7d836"
  },
  {
   "cell_type": "code",
   "execution_count": 45,
   "outputs": [
    {
     "name": "stdout",
     "output_type": "stream",
     "text": [
      "Elements are not overlapping\n"
     ]
    }
   ],
   "source": [
    "mylist1 = [100, 20, 30, 40]\n",
    "mylist2 = [10, 50, 60, 90]\n",
    "\n",
    "if mylist1[1] in mylist2:\n",
    "    print(\"Elements are overlapping\")\n",
    "else:\n",
    "    print(\"Elements are not overlapping\")"
   ],
   "metadata": {
    "collapsed": false,
    "ExecuteTime": {
     "end_time": "2024-02-03T06:45:29.034536500Z",
     "start_time": "2024-02-03T06:45:24.047230500Z"
    }
   },
   "id": "ebdaf0c84a677ca1"
  },
  {
   "cell_type": "markdown",
   "source": [
    "The `not in` operator returns to `True` if it does not find a variable in the specified sequence and `False` if it is found."
   ],
   "metadata": {
    "collapsed": false
   },
   "id": "e9336d85620375"
  },
  {
   "cell_type": "code",
   "execution_count": 46,
   "outputs": [
    {
     "name": "stdout",
     "output_type": "stream",
     "text": [
      "Value is NOT in the list\n"
     ]
    }
   ],
   "source": [
    "val = 1069\n",
    "mylist = [100, 210, 430, 840, 108]\n",
    "\n",
    "if val not in mylist:\n",
    "    print(\"Value is NOT in the list\")\n",
    "else:\n",
    "    print(\"Value is in the list\")"
   ],
   "metadata": {
    "collapsed": false,
    "ExecuteTime": {
     "end_time": "2024-02-03T06:45:29.035508100Z",
     "start_time": "2024-02-03T06:45:24.069815300Z"
    }
   },
   "id": "e5bc04f64f88009e"
  },
  {
   "cell_type": "markdown",
   "source": [
    "## Identity Operators"
   ],
   "metadata": {
    "collapsed": false
   },
   "id": "4bde8bce5d1789b9"
  },
  {
   "cell_type": "markdown",
   "source": [
    "Identity operators are used to compare objects. The different types of identity operators are `is` and `is not`.\n",
    "\n",
    "The `is` operator is used to check whether two variables refer to the same object.\n",
    "\n",
    "It returns `True` if the two variables refer to the same object, and `False` if they do not.\n",
    "\n",
    "This is different from the equality operator `==`, which compares the values of two variables."
   ],
   "metadata": {
    "collapsed": false
   },
   "id": "6ca8a4ffc82e9693"
  },
  {
   "cell_type": "code",
   "execution_count": 47,
   "outputs": [
    {
     "name": "stdout",
     "output_type": "stream",
     "text": [
      "Both are equal\n",
      "Both variables are not pointing to the same object\n",
      "Both are not pointing to the same object\n"
     ]
    }
   ],
   "source": [
    "Firstlist = []\n",
    "Secondlist = []\n",
    "\n",
    "if Firstlist == Secondlist: \n",
    "    print(\"Both are equal\")\n",
    "else:\n",
    "    print(\"Both are not equal\")\n",
    "    \n",
    "if Firstlist is Secondlist:\n",
    "    print(\"Both variables are pointing to the same object\")\n",
    "else:\n",
    "    print(\"Both variables are not pointing to the same object\")\n",
    "    \n",
    "thirdList = Firstlist\n",
    "\n",
    "if thirdList is Secondlist:\n",
    "    print(\"Both are pointing to the same object\")\n",
    "else:\n",
    "    print(\"Both are not pointing to the same object\")\n"
   ],
   "metadata": {
    "collapsed": false,
    "ExecuteTime": {
     "end_time": "2024-02-03T06:45:29.037594800Z",
     "start_time": "2024-02-03T06:45:24.094534100Z"
    }
   },
   "id": "8557487b57c21616"
  },
  {
   "cell_type": "markdown",
   "source": [
    "The is not operator is used to check whether two variables point to the same object or not. True is returned if both side variables point to different objects, otherwise, it returns False:\n"
   ],
   "metadata": {
    "collapsed": false
   },
   "id": "b5958ac2854f5a8"
  },
  {
   "cell_type": "code",
   "execution_count": 48,
   "outputs": [
    {
     "name": "stdout",
     "output_type": "stream",
     "text": [
      "Both Firstlist and Secondlist variables are the same object\n"
     ]
    }
   ],
   "source": [
    "Firstlist = []\n",
    "Secondlist = []\n",
    "\n",
    "if Firstlist is not Secondlist: \n",
    "    print(\"Both Firstlist and Secondlist variables are the same object\")\n",
    "  \n",
    "else:\n",
    "  print(\"Both Firstlist and Secondlist variables are not the same object\")\n"
   ],
   "metadata": {
    "collapsed": false,
    "ExecuteTime": {
     "end_time": "2024-02-03T06:45:29.038679100Z",
     "start_time": "2024-02-03T06:45:24.126812700Z"
    }
   },
   "id": "16a5193813eac652"
  },
  {
   "cell_type": "markdown",
   "source": [
    "## Logical Operators"
   ],
   "metadata": {
    "collapsed": false
   },
   "id": "b0f6c83025694ca8"
  },
  {
   "cell_type": "markdown",
   "source": [
    "These operators are used to combine conditional statements(True or False). \n",
    "\n",
    "There are three types of logical operators: `and`, `or`, and `not`.\n",
    "\n",
    "The logical `and` operator returns True if both statements are ture otherwise it returns False.\n",
    "\n"
   ],
   "metadata": {
    "collapsed": false
   },
   "id": "590a9169550d0beb"
  },
  {
   "cell_type": "code",
   "execution_count": 49,
   "outputs": [
    {
     "name": "stdout",
     "output_type": "stream",
     "text": [
      "Both a and b are greater than 0\n"
     ]
    }
   ],
   "source": [
    "a = 32\n",
    "b= 132\n",
    "\n",
    "if a > 0 and b > 0:\n",
    "    print(\"Both a and b are greater than 0\")\n",
    "else:\n",
    "    print(\"At least one variable is less than 0\")"
   ],
   "metadata": {
    "collapsed": false,
    "ExecuteTime": {
     "end_time": "2024-02-03T06:45:29.039653600Z",
     "start_time": "2024-02-03T06:45:24.140178100Z"
    }
   },
   "id": "39726fd87ac6c148"
  },
  {
   "cell_type": "markdown",
   "source": [
    "The logical OR operator returns True if any of the statements are true, otherwise it returns False"
   ],
   "metadata": {
    "collapsed": false
   },
   "id": "27f9a8e3aaa1e654"
  },
  {
   "cell_type": "code",
   "execution_count": 50,
   "outputs": [
    {
     "name": "stdout",
     "output_type": "stream",
     "text": [
      "At least one variable is greater than 0\n"
     ]
    }
   ],
   "source": [
    "a = 32\n",
    "b = -32\n",
    "\n",
    "if a > 0 or b > 0:\n",
    "    print(\"At least one variable is greater than 0\")\n",
    "else:\n",
    "    print(\"Both a and b are less than 0\")"
   ],
   "metadata": {
    "collapsed": false,
    "ExecuteTime": {
     "end_time": "2024-02-03T06:45:29.040650800Z",
     "start_time": "2024-02-03T06:45:24.156439800Z"
    }
   },
   "id": "89f252ea49c7200d"
  },
  {
   "cell_type": "markdown",
   "source": [
    "The logical `not` operator is a Boolean operator, which can be applied to any object.\n",
    "\n",
    "It returns True if the object is false, otherwise it returns False."
   ],
   "metadata": {
    "collapsed": false
   },
   "id": "3a18fa026559c66a"
  },
  {
   "cell_type": "code",
   "execution_count": 51,
   "outputs": [
    {
     "name": "stdout",
     "output_type": "stream",
     "text": [
      "Boolean value of a is True\n"
     ]
    }
   ],
   "source": [
    "a = 32\n",
    "\n",
    "if not a:\n",
    "    print(\"Boolean value of a is False\")\n",
    "else:\n",
    "    print(\"Boolean value of a is True\")"
   ],
   "metadata": {
    "collapsed": false,
    "ExecuteTime": {
     "end_time": "2024-02-03T06:45:29.040650800Z",
     "start_time": "2024-02-03T06:45:24.169705900Z"
    }
   },
   "id": "5c6c4aa7b1195525"
  },
  {
   "cell_type": "markdown",
   "source": [
    "# TUPLES"
   ],
   "metadata": {
    "collapsed": false
   },
   "id": "64206913d690b5db"
  },
  {
   "cell_type": "markdown",
   "source": [
    "Tuples are used to store multiple items in a single variable.\n",
    "\n",
    "It is a read-only collection where data is ordered (zero-based indexing), and unchangeable/immutable (items cannot be added, modified, removed).\n",
    "\n",
    "Duplicate values are allowed in a tuple, and elements can be of different types, similar to lists.\n",
    "\n",
    "Tuples are used instead of lists when we wish to store the data that should not be changed in the program.\n",
    "\n",
    "Tuples are written with round brackets, (), and items are separated by a comma."
   ],
   "metadata": {
    "collapsed": false
   },
   "id": "9d3f15bda7d610b5"
  },
  {
   "cell_type": "code",
   "execution_count": 52,
   "outputs": [],
   "source": [
    "tuple_name = (\"item1\", \"item2\", \"item3\", \"item4\")"
   ],
   "metadata": {
    "collapsed": false,
    "ExecuteTime": {
     "end_time": "2024-02-03T06:45:29.040650800Z",
     "start_time": "2024-02-03T06:45:24.183975500Z"
    }
   },
   "id": "405ffa8c47e29be4"
  },
  {
   "cell_type": "code",
   "execution_count": 53,
   "outputs": [],
   "source": [
    "my_tuple = (\"apple\", \"banana\", \"cherry\", \"apple\", \"cherry\")"
   ],
   "metadata": {
    "collapsed": false,
    "ExecuteTime": {
     "end_time": "2024-02-03T06:45:29.041649200Z",
     "start_time": "2024-02-03T06:45:24.203439100Z"
    }
   },
   "id": "869a1afcd84bd99f"
  },
  {
   "cell_type": "markdown",
   "source": [
    "Tuples support concatenation (+) and repetition (*) operators, similar to strings.\n",
    "\n",
    "In addition, a membership operator and iteration operation are also available in a tuple.\n",
    "\n",
    "Different operations that tuples support are listed below:"
   ],
   "metadata": {
    "collapsed": false
   },
   "id": "9cfb42fb0bb74fb8"
  },
  {
   "cell_type": "markdown",
   "source": [
    "Description : Length"
   ],
   "metadata": {
    "collapsed": false
   },
   "id": "d90e52d0c3efe0fb"
  },
  {
   "cell_type": "code",
   "execution_count": 54,
   "outputs": [
    {
     "name": "stdout",
     "output_type": "stream",
     "text": [
      "3\n"
     ]
    }
   ],
   "source": [
    "print(len((4,5,\"hello\")))"
   ],
   "metadata": {
    "collapsed": false,
    "ExecuteTime": {
     "end_time": "2024-02-03T06:45:29.041649200Z",
     "start_time": "2024-02-03T06:45:24.218778800Z"
    }
   },
   "id": "8f6f1f7166332333"
  },
  {
   "cell_type": "markdown",
   "source": [
    "Description : Concatenation"
   ],
   "metadata": {
    "collapsed": false
   },
   "id": "249fafd43db895ba"
  },
  {
   "cell_type": "code",
   "execution_count": 55,
   "outputs": [
    {
     "name": "stdout",
     "output_type": "stream",
     "text": [
      "(1, 2, 3, 4, 5, 6)\n"
     ]
    }
   ],
   "source": [
    "print((1,2,3) + (4,5,6))"
   ],
   "metadata": {
    "collapsed": false,
    "ExecuteTime": {
     "end_time": "2024-02-03T06:45:29.042651600Z",
     "start_time": "2024-02-03T06:45:24.234243900Z"
    }
   },
   "id": "2db70a48e52820da"
  },
  {
   "cell_type": "markdown",
   "source": [
    "Description : Repetition"
   ],
   "metadata": {
    "collapsed": false
   },
   "id": "f112bc620e7114e3"
  },
  {
   "cell_type": "code",
   "execution_count": 56,
   "outputs": [
    {
     "name": "stdout",
     "output_type": "stream",
     "text": [
      "('Hello', 'Hello', 'Hello', 'Hello')\n"
     ]
    }
   ],
   "source": [
    "print((\"Hello\",) * 4)"
   ],
   "metadata": {
    "collapsed": false,
    "ExecuteTime": {
     "end_time": "2024-02-03T06:45:29.043814100Z",
     "start_time": "2024-02-03T06:45:24.247907100Z"
    }
   },
   "id": "c09cc64ec986addb"
  },
  {
   "cell_type": "markdown",
   "source": [
    "Description : Membership"
   ],
   "metadata": {
    "collapsed": false
   },
   "id": "cbce588c68cd758b"
  },
  {
   "cell_type": "code",
   "execution_count": 57,
   "outputs": [
    {
     "name": "stdout",
     "output_type": "stream",
     "text": [
      "True\n"
     ]
    }
   ],
   "source": [
    "print(3 in (1,2,3))"
   ],
   "metadata": {
    "collapsed": false,
    "ExecuteTime": {
     "end_time": "2024-02-03T06:45:29.044812300Z",
     "start_time": "2024-02-03T06:45:24.267437700Z"
    }
   },
   "id": "e397259b285d2399"
  },
  {
   "cell_type": "markdown",
   "source": [
    "Description : Iteration"
   ],
   "metadata": {
    "collapsed": false
   },
   "id": "dabfa092927ea697"
  },
  {
   "cell_type": "code",
   "execution_count": 58,
   "outputs": [
    {
     "name": "stdout",
     "output_type": "stream",
     "text": [
      "1\n",
      "2\n",
      "3\n"
     ]
    }
   ],
   "source": [
    "for p in (1,2,3):\n",
    "    print(p)"
   ],
   "metadata": {
    "collapsed": false,
    "ExecuteTime": {
     "end_time": "2024-02-03T06:45:29.045817100Z",
     "start_time": "2024-02-03T06:45:24.280555200Z"
    }
   },
   "id": "b5c5684e344ac533"
  },
  {
   "cell_type": "markdown",
   "source": [
    "# COMPLEX DATA TYPES"
   ],
   "metadata": {
    "collapsed": false
   },
   "id": "90a39a8321da914b"
  },
  {
   "cell_type": "markdown",
   "source": [
    "Complex data types are mapping data types.\n",
    " In other words, dictionary, and set data types, namely, set and frozenset.\n",
    " \n",
    "## Dictionary\n",
    "\n"
   ],
   "metadata": {
    "collapsed": false
   },
   "id": "a95307a921d09d85"
  },
  {
   "cell_type": "markdown",
   "source": [
    "Dictionary stores data in unordered {key:value} pairs; a key must be of a hashable and immutable data type and value can be any arbitrary object.\n",
    "\n",
    "In this context, an object is hashable if it has a hash value that does not change during its lifetime in the program.\n",
    "\n",
    "Items in the dictionary are enclosed in curly braces, {}, and separated with a comma and can be created using {key:value} syntax."
   ],
   "metadata": {
    "collapsed": false
   },
   "id": "1f6380643c8dadfb"
  },
  {
   "cell_type": "code",
   "execution_count": 59,
   "outputs": [],
   "source": [
    "dict = {\"key1\": \"value1\", \n",
    "        \"key2\": \"value2\", \n",
    "        \"key3\": \"value3\"}"
   ],
   "metadata": {
    "collapsed": false,
    "ExecuteTime": {
     "end_time": "2024-02-03T06:45:29.046811500Z",
     "start_time": "2024-02-03T06:45:24.310374900Z"
    }
   },
   "id": "7368541ab06de03d"
  },
  {
   "cell_type": "markdown",
   "source": [
    "Keys in dictionaries are case-sensitive, they should be unique, and cannot be duplicated.\n",
    "\n",
    "However, the values in the dictionary can be dublicated."
   ],
   "metadata": {
    "collapsed": false
   },
   "id": "572dc4e85fc68c06"
  },
  {
   "cell_type": "code",
   "execution_count": 60,
   "outputs": [],
   "source": [
    "my_dict = {\"1\":  \"data\",\n",
    "           \"2\":  \"structure\",\n",
    "           \"3\":  \"python\",\n",
    "           \"4\":  \"programming\",\n",
    "           \"5\":  \"language\"}"
   ],
   "metadata": {
    "collapsed": false,
    "ExecuteTime": {
     "end_time": "2024-02-03T06:45:29.046811500Z",
     "start_time": "2024-02-03T06:45:24.326843200Z"
    }
   },
   "id": "7ca2d8a1f16df527"
  },
  {
   "cell_type": "markdown",
   "source": [
    "Values in the dictionary can be fetched based on the key. "
   ],
   "metadata": {
    "collapsed": false
   },
   "id": "5b6d4d82726d0604"
  },
  {
   "cell_type": "code",
   "execution_count": 61,
   "outputs": [
    {
     "name": "stdout",
     "output_type": "stream",
     "text": [
      "data\n"
     ]
    }
   ],
   "source": [
    "print(my_dict[\"1\"])"
   ],
   "metadata": {
    "collapsed": false,
    "ExecuteTime": {
     "end_time": "2024-02-03T06:45:29.046811500Z",
     "start_time": "2024-02-03T06:45:24.343110500Z"
    }
   },
   "id": "e43f91c8cd7bd887"
  },
  {
   "cell_type": "code",
   "execution_count": 62,
   "outputs": [
    {
     "ename": "KeyError",
     "evalue": "0",
     "output_type": "error",
     "traceback": [
      "\u001B[1;31m---------------------------------------------------------------------------\u001B[0m",
      "\u001B[1;31mKeyError\u001B[0m                                  Traceback (most recent call last)",
      "\u001B[1;32m~\\AppData\\Local\\Temp\\ipykernel_18136\\4040257462.py\u001B[0m in \u001B[0;36m<module>\u001B[1;34m\u001B[0m\n\u001B[1;32m----> 1\u001B[1;33m \u001B[0mprint\u001B[0m\u001B[1;33m(\u001B[0m\u001B[0mmy_dict\u001B[0m\u001B[1;33m[\u001B[0m\u001B[1;36m0\u001B[0m\u001B[1;33m]\u001B[0m\u001B[1;33m)\u001B[0m\u001B[1;33m\u001B[0m\u001B[1;33m\u001B[0m\u001B[0m\n\u001B[0m",
      "\u001B[1;31mKeyError\u001B[0m: 0"
     ]
    }
   ],
   "source": [
    "print(my_dict[0])"
   ],
   "metadata": {
    "collapsed": false,
    "ExecuteTime": {
     "end_time": "2024-02-03T06:45:29.047979900Z",
     "start_time": "2024-02-03T06:45:24.359387200Z"
    }
   },
   "id": "6606ca887d634eb7"
  },
  {
   "cell_type": "markdown",
   "source": [
    "The dictionary data type is mutable and dynamic.\n",
    "\n",
    "It differs from lists in the sense that dictionary elements can be accessed using keys, whereas list elements are accessed via their index number.\n"
   ],
   "metadata": {
    "collapsed": false
   },
   "id": "f12a3f4e2ca16d9b"
  },
  {
   "cell_type": "markdown",
   "source": [
    "There are different characteristics of the dictionary data structure.\n",
    "\n",
    "1-) Creating a dictionary, and accessing elements in the dictionary."
   ],
   "metadata": {
    "collapsed": false
   },
   "id": "df8d4b6935039966"
  },
  {
   "cell_type": "code",
   "execution_count": null,
   "outputs": [],
   "source": [
    "person = {}"
   ],
   "metadata": {
    "collapsed": false,
    "ExecuteTime": {
     "start_time": "2024-02-03T06:45:24.798813800Z"
    }
   },
   "id": "133ef751797f76af"
  },
  {
   "cell_type": "code",
   "execution_count": null,
   "outputs": [],
   "source": [
    "print(type(person))"
   ],
   "metadata": {
    "collapsed": false,
    "ExecuteTime": {
     "start_time": "2024-02-03T06:45:24.803952700Z"
    }
   },
   "id": "f82bb49e360af1d4"
  },
  {
   "cell_type": "code",
   "execution_count": null,
   "outputs": [],
   "source": [
    "person[\"name\"] = \"John\""
   ],
   "metadata": {
    "collapsed": false,
    "ExecuteTime": {
     "start_time": "2024-02-03T06:45:24.810076200Z"
    }
   },
   "id": "2144fc0a350a7428"
  },
  {
   "cell_type": "code",
   "execution_count": null,
   "outputs": [],
   "source": [
    "person[\"lastname\"] = \"Doe\""
   ],
   "metadata": {
    "collapsed": false,
    "ExecuteTime": {
     "start_time": "2024-02-03T06:45:24.816401Z"
    }
   },
   "id": "297177925f81d66a"
  },
  {
   "cell_type": "code",
   "execution_count": null,
   "outputs": [],
   "source": [
    "person[\"age\"] = 32\n"
   ],
   "metadata": {
    "collapsed": false,
    "ExecuteTime": {
     "start_time": "2024-02-03T06:45:24.822633200Z"
    }
   },
   "id": "4fdf6dc6b19ee1f7"
  },
  {
   "cell_type": "code",
   "execution_count": null,
   "outputs": [],
   "source": [
    "person[\"address\"] = [\"New York\", \"USA\"]"
   ],
   "metadata": {
    "collapsed": false,
    "ExecuteTime": {
     "start_time": "2024-02-03T06:45:24.828790700Z"
    }
   },
   "id": "3371d22af5344b"
  },
  {
   "cell_type": "code",
   "execution_count": null,
   "outputs": [],
   "source": [
    "print(person)"
   ],
   "metadata": {
    "collapsed": false,
    "ExecuteTime": {
     "start_time": "2024-02-03T06:45:24.835927600Z"
    }
   },
   "id": "7a74f2bf74fd9456"
  },
  {
   "cell_type": "code",
   "execution_count": null,
   "outputs": [],
   "source": [
    "print(person[\"name\"])"
   ],
   "metadata": {
    "collapsed": false,
    "ExecuteTime": {
     "start_time": "2024-02-03T06:45:24.843181400Z"
    }
   },
   "id": "a90847d390620b45"
  },
  {
   "cell_type": "markdown",
   "source": [
    "2-) in and not in operators\n"
   ],
   "metadata": {
    "collapsed": false
   },
   "id": "bb38562b3d2950e4"
  },
  {
   "cell_type": "code",
   "execution_count": null,
   "outputs": [],
   "source": [
    "print(\"name\" in person)"
   ],
   "metadata": {
    "collapsed": false,
    "ExecuteTime": {
     "start_time": "2024-02-03T06:45:24.849303900Z"
    }
   },
   "id": "f933c3bd82f6466d"
  },
  {
   "cell_type": "code",
   "execution_count": null,
   "outputs": [],
   "source": [
    "print(\"naasd\" not in person)"
   ],
   "metadata": {
    "collapsed": false,
    "ExecuteTime": {
     "start_time": "2024-02-03T06:45:24.856444500Z"
    }
   },
   "id": "63b107f2ac958a50"
  },
  {
   "cell_type": "markdown",
   "source": [
    "3-) Length of a dictionary"
   ],
   "metadata": {
    "collapsed": false
   },
   "id": "70451b790fca5055"
  },
  {
   "cell_type": "code",
   "execution_count": null,
   "outputs": [],
   "source": [
    "print(len(person))"
   ],
   "metadata": {
    "collapsed": false,
    "ExecuteTime": {
     "start_time": "2024-02-03T06:45:24.862677200Z"
    }
   },
   "id": "8388d63f7ffb337f"
  },
  {
   "cell_type": "markdown",
   "source": [
    "Python also includes a dictioary methods.\n"
   ],
   "metadata": {
    "collapsed": false
   },
   "id": "95963d1466e82df1"
  },
  {
   "cell_type": "markdown",
   "source": [
    "Function: my_dict.clear()\n",
    "\n",
    "Description: Removes all elements of dictionary my_dict"
   ],
   "metadata": {
    "collapsed": false
   },
   "id": "df9b74bab2fcb90f"
  },
  {
   "cell_type": "code",
   "execution_count": null,
   "outputs": [],
   "source": [
    "mydict = {\n",
    "    'a': 1,\n",
    "    'b': 2,\n",
    "    'c': 3\n",
    "}"
   ],
   "metadata": {
    "collapsed": false,
    "ExecuteTime": {
     "start_time": "2024-02-03T06:45:24.869854300Z"
    }
   },
   "id": "77f6989f9f6fa922"
  },
  {
   "cell_type": "code",
   "execution_count": null,
   "outputs": [],
   "source": [
    "print(mydict)"
   ],
   "metadata": {
    "collapsed": false,
    "ExecuteTime": {
     "start_time": "2024-02-03T06:45:24.878109900Z"
    }
   },
   "id": "c8bf1400e256f8c3"
  },
  {
   "cell_type": "code",
   "execution_count": null,
   "outputs": [],
   "source": [
    "mydict.clear()"
   ],
   "metadata": {
    "collapsed": false,
    "ExecuteTime": {
     "start_time": "2024-02-03T06:45:24.887303300Z"
    }
   },
   "id": "3918754bd2ae0dd3"
  },
  {
   "cell_type": "code",
   "execution_count": null,
   "outputs": [],
   "source": [
    "print(mydict)"
   ],
   "metadata": {
    "collapsed": false,
    "ExecuteTime": {
     "start_time": "2024-02-03T06:45:24.897454700Z"
    }
   },
   "id": "826cfede7f9be8de"
  },
  {
   "cell_type": "markdown",
   "source": [
    "Function: mydict.get()\n",
    "\n",
    "Description: Searches the dictionary for a key and returns the corresponding value, if it is found; otherwise, it returns None."
   ],
   "metadata": {
    "collapsed": false
   },
   "id": "b8f1577b89e0640"
  },
  {
   "cell_type": "code",
   "execution_count": null,
   "outputs": [],
   "source": [
    "mydict = {\n",
    "    'a': 1,\n",
    "    'b': 2,\n",
    "    'c': 3\n",
    "}"
   ],
   "metadata": {
    "collapsed": false,
    "ExecuteTime": {
     "start_time": "2024-02-03T06:45:24.905764300Z"
    }
   },
   "id": "b620eb5b58bb281d"
  },
  {
   "cell_type": "code",
   "execution_count": null,
   "outputs": [],
   "source": [
    "print(mydict.get('b'))"
   ],
   "metadata": {
    "collapsed": false,
    "ExecuteTime": {
     "start_time": "2024-02-03T06:45:24.913825300Z"
    }
   },
   "id": "addd52505c44dd49"
  },
  {
   "cell_type": "code",
   "execution_count": null,
   "outputs": [],
   "source": [
    "print(mydict.get('d'))"
   ],
   "metadata": {
    "collapsed": false,
    "ExecuteTime": {
     "start_time": "2024-02-03T06:45:24.922013600Z"
    }
   },
   "id": "efb34717de4d9c1a"
  },
  {
   "cell_type": "markdown",
   "source": [
    "Function: mydict.items()\n",
    "\n",
    "Description: Returns a list of key-value pairs in the dictionary."
   ],
   "metadata": {
    "collapsed": false
   },
   "id": "b7d1189db9112f9"
  },
  {
   "cell_type": "code",
   "execution_count": null,
   "outputs": [],
   "source": [
    "print(list(mydict.items()))"
   ],
   "metadata": {
    "collapsed": false,
    "ExecuteTime": {
     "start_time": "2024-02-03T06:45:24.929215800Z"
    }
   },
   "id": "3d2bc1b16d93234b"
  },
  {
   "cell_type": "markdown",
   "source": [
    "Function: mydict.keys()\n",
    "\n",
    "Description: Returns a list of keys in the dictionary.\n",
    "\n"
   ],
   "metadata": {
    "collapsed": false
   },
   "id": "5598a45139ca4254"
  },
  {
   "cell_type": "code",
   "execution_count": null,
   "outputs": [],
   "source": [
    "print(list(mydict.keys()))\n"
   ],
   "metadata": {
    "collapsed": false,
    "ExecuteTime": {
     "start_time": "2024-02-03T06:45:24.937393300Z"
    }
   },
   "id": "2b514c970e53146d"
  },
  {
   "cell_type": "markdown",
   "source": [
    "Function: mydict.values()\n",
    "\n",
    "Description: Returns a list of values in the dictionary."
   ],
   "metadata": {
    "collapsed": false
   },
   "id": "73c3be9551eabcf3"
  },
  {
   "cell_type": "code",
   "execution_count": null,
   "outputs": [],
   "source": [
    "print(list(mydict.values()))"
   ],
   "metadata": {
    "collapsed": false,
    "ExecuteTime": {
     "start_time": "2024-02-03T06:45:24.944720Z"
    }
   },
   "id": "2a6a3ed1a34c90c2"
  },
  {
   "cell_type": "markdown",
   "source": [
    "Function: mydict.pop()\n",
    "\n",
    "Description: If a given key is present in the dictionary, then this function will remove the key and return the associated value."
   ],
   "metadata": {
    "collapsed": false
   },
   "id": "c512d79d137f3de4"
  },
  {
   "cell_type": "code",
   "execution_count": null,
   "outputs": [],
   "source": [
    "print(mydict)"
   ],
   "metadata": {
    "collapsed": false,
    "ExecuteTime": {
     "start_time": "2024-02-03T06:45:24.949838Z"
    }
   },
   "id": "89721100fb1e5d41"
  },
  {
   "cell_type": "code",
   "execution_count": null,
   "outputs": [],
   "source": [
    "print(mydict.pop('b'))"
   ],
   "metadata": {
    "collapsed": false,
    "ExecuteTime": {
     "start_time": "2024-02-03T06:45:24.954988700Z"
    }
   },
   "id": "43517386e9d6970e"
  },
  {
   "cell_type": "code",
   "execution_count": null,
   "outputs": [],
   "source": [
    "print(mydict)"
   ],
   "metadata": {
    "collapsed": false,
    "ExecuteTime": {
     "start_time": "2024-02-03T06:45:24.959052Z"
    }
   },
   "id": "2d26364b35e46026"
  },
  {
   "cell_type": "markdown",
   "source": [
    "Function: mydict.popitem()\n",
    "\n",
    "Description: This method removes the last key-value pair added in the dictionary and returns it as a tuple."
   ],
   "metadata": {
    "collapsed": false
   },
   "id": "d2e14624a8b3049c"
  },
  {
   "cell_type": "code",
   "execution_count": null,
   "outputs": [],
   "source": [
    "mydict = {\n",
    "    'a': 1,\n",
    "    'b': 2,\n",
    "    'c': 3\n",
    "}"
   ],
   "metadata": {
    "collapsed": false,
    "ExecuteTime": {
     "start_time": "2024-02-03T06:45:24.963162Z"
    }
   },
   "id": "355c937d755aa51c"
  },
  {
   "cell_type": "code",
   "execution_count": null,
   "outputs": [],
   "source": [
    "print(mydict)"
   ],
   "metadata": {
    "collapsed": false,
    "ExecuteTime": {
     "start_time": "2024-02-03T06:45:24.966316200Z"
    }
   },
   "id": "bdc6de3ebe37072f"
  },
  {
   "cell_type": "code",
   "execution_count": null,
   "outputs": [],
   "source": [
    "print(mydict.popitem())"
   ],
   "metadata": {
    "collapsed": false,
    "ExecuteTime": {
     "start_time": "2024-02-03T06:45:24.969315900Z"
    }
   },
   "id": "ca6d484a4e197f88"
  },
  {
   "cell_type": "code",
   "execution_count": null,
   "outputs": [],
   "source": [
    "print(mydict)"
   ],
   "metadata": {
    "collapsed": false,
    "ExecuteTime": {
     "start_time": "2024-02-03T06:45:24.973439900Z"
    }
   },
   "id": "6911b23f241977ba"
  },
  {
   "cell_type": "markdown",
   "source": [
    "Function: mydict.update()\n",
    "\n",
    "Description: Merges one dictionary with another. Firstly, it checks whether a key of the second dictionary is present in the first dictionary; the corresponding value is then updated. If the key is not present in the first dictionary, then the key-value pair is added. "
   ],
   "metadata": {
    "collapsed": false
   },
   "id": "356d5ed5e65a960d"
  },
  {
   "cell_type": "code",
   "execution_count": null,
   "outputs": [],
   "source": [
    "d1 = {'a': 10, 'b': 20,\"c\": 30}\n",
    "d2 = {'b': 200, 'd': 400}\n"
   ],
   "metadata": {
    "collapsed": false,
    "ExecuteTime": {
     "start_time": "2024-02-03T06:45:24.977596300Z"
    }
   },
   "id": "d4c304d30d36e295"
  },
  {
   "cell_type": "code",
   "execution_count": null,
   "outputs": [],
   "source": [
    "print(d1.update(d2))"
   ],
   "metadata": {
    "collapsed": false,
    "ExecuteTime": {
     "start_time": "2024-02-03T06:45:24.982717700Z"
    }
   },
   "id": "324aea3cfebe9053"
  },
  {
   "cell_type": "code",
   "execution_count": null,
   "outputs": [],
   "source": [
    "print(d1)"
   ],
   "metadata": {
    "collapsed": false,
    "ExecuteTime": {
     "start_time": "2024-02-03T06:45:24.986873800Z"
    }
   },
   "id": "b701b893c3ba05cc"
  },
  {
   "cell_type": "markdown",
   "source": [
    "## SETS"
   ],
   "metadata": {
    "collapsed": false
   },
   "id": "3b27253316c14c2"
  },
  {
   "cell_type": "markdown",
   "source": [
    "A set is an unordered collection of hashable objects. It is iterable, mutable and has unique elements.\n",
    "\n",
    "The order of the elements is also not defined.\n",
    "\n",
    "While the addition and removal of items are allowed, the items themselves within the set must be immutable and hashable.\n",
    "\n",
    "Sets support membership testing operators (`in`, `not in`), and operations such as intersection, union, difference and symmetric difference.\n",
    "\n",
    "Sets cannot contain duplicate elements.\n",
    "\n",
    "They are created by using the built-in set() function or curly braces, {}.\n",
    "\n",
    "A set() returns a set objects from an iterable.\n",
    "\n"
   ],
   "metadata": {
    "collapsed": false
   },
   "id": "41d324abc8f475d0"
  },
  {
   "cell_type": "code",
   "execution_count": null,
   "outputs": [],
   "source": [
    "x1 = set([\"and\",\"python\", \"data\", \"structure\"])"
   ],
   "metadata": {
    "collapsed": false,
    "ExecuteTime": {
     "start_time": "2024-02-03T06:45:24.990954600Z"
    }
   },
   "id": "26fbf760adc98d67"
  },
  {
   "cell_type": "code",
   "execution_count": null,
   "outputs": [],
   "source": [
    "print(x1)"
   ],
   "metadata": {
    "collapsed": false,
    "ExecuteTime": {
     "start_time": "2024-02-03T06:45:24.996079200Z"
    }
   },
   "id": "f49d5883e26a42f3"
  },
  {
   "cell_type": "code",
   "execution_count": null,
   "outputs": [],
   "source": [
    "print(type(x1))"
   ],
   "metadata": {
    "collapsed": false,
    "ExecuteTime": {
     "start_time": "2024-02-03T06:45:25.000123500Z"
    }
   },
   "id": "82a0ee99fdb1983f"
  },
  {
   "cell_type": "code",
   "execution_count": null,
   "outputs": [],
   "source": [
    "x2 = {\"and\", \"python\", \"data\", \"structure\"}"
   ],
   "metadata": {
    "collapsed": false,
    "ExecuteTime": {
     "start_time": "2024-02-03T06:45:25.005274800Z"
    }
   },
   "id": "3f36b166032eed72"
  },
  {
   "cell_type": "code",
   "execution_count": null,
   "outputs": [],
   "source": [
    "print(x2)"
   ],
   "metadata": {
    "collapsed": false,
    "ExecuteTime": {
     "start_time": "2024-02-03T06:45:25.009478100Z"
    }
   },
   "id": "13f96e4bffacee40"
  },
  {
   "cell_type": "code",
   "execution_count": null,
   "outputs": [],
   "source": [
    "print(type(x2))"
   ],
   "metadata": {
    "collapsed": false,
    "ExecuteTime": {
     "start_time": "2024-02-03T06:45:25.014634600Z"
    }
   },
   "id": "c399181e0f3eb70e"
  },
  {
   "cell_type": "markdown",
   "source": [
    "It is important to note that sets are unordered data structures, and the order of items in sets is not preserved.\n",
    "\n",
    "Therefore, your outputs in this section may slightly different than those displayed here.\n",
    "\n",
    "However, this does not affect the function of the operations we will be demonstrating.\n",
    "\n"
   ],
   "metadata": {
    "collapsed": false
   },
   "id": "b88ae4ed91f0e952"
  },
  {
   "cell_type": "markdown",
   "source": [
    "Sets are generally used to perform mathematical operations such as intersection, union, difference and complement.\n",
    "\n",
    "The len() method gives the number of items in a set and the in and not in operators can be used in sets to test for membership."
   ],
   "metadata": {
    "collapsed": false
   },
   "id": "e5f2353d9ebbf827"
  },
  {
   "cell_type": "code",
   "execution_count": null,
   "outputs": [],
   "source": [
    "x = {\"data\", \"structure\", \"using\", \"python\"}\n",
    "\n",
    "print(len(x))\n",
    "print(\"data\" in x)"
   ],
   "metadata": {
    "collapsed": false,
    "ExecuteTime": {
     "start_time": "2024-02-03T06:45:25.018840200Z"
    }
   },
   "id": "757df0a0f34f9dca"
  },
  {
   "cell_type": "markdown",
   "source": [
    "The most commonly used methods and operations that can be applied to set data structures are as follows:\n",
    "\n",
    "The union of the two sets say x1 and x2 is a set that consists of all elements in either set:\n"
   ],
   "metadata": {
    "collapsed": false
   },
   "id": "2fab1c1d886892a8"
  },
  {
   "cell_type": "code",
   "execution_count": null,
   "outputs": [],
   "source": [
    "x1 = {\"data\", \"structure\"}\n",
    "x2 = {\"python\", \"java\", \"c++\", \"data\"} \n",
    "\n"
   ],
   "metadata": {
    "collapsed": false,
    "ExecuteTime": {
     "start_time": "2024-02-03T06:45:25.023999100Z"
    }
   },
   "id": "744bb32d953018d5"
  },
  {
   "cell_type": "markdown",
   "source": [
    "Below figure shows a Venn diagram demonstrating the relationship between the two sets:"
   ],
   "metadata": {
    "collapsed": false
   },
   "id": "846cde1402f65d11"
  },
  {
   "cell_type": "markdown",
   "source": [
    "![Set_Venn](Set_Venn.png)"
   ],
   "metadata": {
    "collapsed": false
   },
   "id": "1ca80a1d2eccf8b4"
  },
  {
   "cell_type": "markdown",
   "source": [
    "Description:\n",
    "\n",
    "Union of two sets, x1 and x2.\n",
    "\n",
    "It can be done using the union() method or the | operator."
   ],
   "metadata": {
    "collapsed": false
   },
   "id": "697bb06f24e57423"
  },
  {
   "cell_type": "code",
   "execution_count": 63,
   "outputs": [
    {
     "name": "stdout",
     "output_type": "stream",
     "text": [
      "{'data', 'java', 'structure', 'c++', 'python'}\n",
      "{'data', 'java', 'structure', 'c++', 'python'}\n"
     ]
    }
   ],
   "source": [
    "x1 = {\"data\", \"structure\"}\n",
    "x2 = {\"python\", \"java\", \"c++\", \"data\"}\n",
    "\n",
    "x3 = x1 | x2\n",
    "\n",
    "print(x3)\n",
    "\n",
    "print(x1.union(x2))"
   ],
   "metadata": {
    "collapsed": false,
    "ExecuteTime": {
     "end_time": "2024-02-03T07:03:27.643539900Z",
     "start_time": "2024-02-03T07:03:27.427143900Z"
    }
   },
   "id": "b0f3c7bb33188d12"
  },
  {
   "cell_type": "markdown",
   "source": [
    "Description: Intersection of two sets, x1 and x2.\n",
    "\n",
    "It can be done using the intersection() method or the & operator. \n",
    "\n",
    "Intersection returns a set of items common to both sets."
   ],
   "metadata": {
    "collapsed": false
   },
   "id": "f88272f2072fb01f"
  },
  {
   "cell_type": "code",
   "execution_count": 64,
   "outputs": [
    {
     "name": "stdout",
     "output_type": "stream",
     "text": [
      "{'data'}\n",
      "{'data'}\n"
     ]
    }
   ],
   "source": [
    "print(x1.intersection(x2))\n",
    "\n",
    "print(x1 & x2)"
   ],
   "metadata": {
    "collapsed": false,
    "ExecuteTime": {
     "end_time": "2024-02-03T07:05:15.276257200Z",
     "start_time": "2024-02-03T07:05:15.148258300Z"
    }
   },
   "id": "97bca353e7e702a3"
  },
  {
   "cell_type": "markdown",
   "source": [
    "Description: Difference of two sets, x1 and x2.\n",
    "\n",
    "It can be done using the difference() method or the - operator.\n",
    "\n",
    "Difference returns a set of items that exist only in the first set but not in the second set."
   ],
   "metadata": {
    "collapsed": false
   },
   "id": "bcc077129b645f2d"
  },
  {
   "cell_type": "code",
   "execution_count": 65,
   "outputs": [
    {
     "name": "stdout",
     "output_type": "stream",
     "text": [
      "{'structure'}\n",
      "{'structure'}\n"
     ]
    }
   ],
   "source": [
    "print(x1.difference(x2))\n",
    "print(x1 - x2)"
   ],
   "metadata": {
    "collapsed": false,
    "ExecuteTime": {
     "end_time": "2024-02-03T07:05:58.967731800Z",
     "start_time": "2024-02-03T07:05:58.785503300Z"
    }
   },
   "id": "93030858a6894df9"
  },
  {
   "cell_type": "markdown",
   "source": [
    "Description: Symmetric difference of two sets, x1 and x2.\n",
    "\n",
    "It can be done using the symmetric_difference() method or the ^ operator.\n",
    "\n",
    "Symmetric difference returns a set of items that are present in one of the sets, but not in both."
   ],
   "metadata": {
    "collapsed": false
   },
   "id": "343a08d90bb98a21"
  },
  {
   "cell_type": "code",
   "execution_count": 66,
   "outputs": [
    {
     "name": "stdout",
     "output_type": "stream",
     "text": [
      "{'java', 'c++', 'structure', 'python'}\n",
      "{'java', 'c++', 'structure', 'python'}\n"
     ]
    }
   ],
   "source": [
    "print(x1.symmetric_difference(x2))\n",
    "\n",
    "print(x1 ^ x2)"
   ],
   "metadata": {
    "collapsed": false,
    "ExecuteTime": {
     "end_time": "2024-02-03T07:06:52.102234800Z",
     "start_time": "2024-02-03T07:06:51.941114900Z"
    }
   },
   "id": "a431496d62c16a7"
  },
  {
   "cell_type": "markdown",
   "source": [
    "Description: Subset of two sets, x1 and x2.\n",
    "\n",
    "It can be done using the issubset() method.\n"
   ],
   "metadata": {
    "collapsed": false
   },
   "id": "983092b375600ed7"
  },
  {
   "cell_type": "code",
   "execution_count": 67,
   "outputs": [
    {
     "name": "stdout",
     "output_type": "stream",
     "text": [
      "False\n"
     ]
    }
   ],
   "source": [
    "print(x1.issubset(x2))"
   ],
   "metadata": {
    "collapsed": false,
    "ExecuteTime": {
     "end_time": "2024-02-03T07:10:04.670779500Z",
     "start_time": "2024-02-03T07:10:04.439378900Z"
    }
   },
   "id": "a459947ef896a8f"
  },
  {
   "cell_type": "markdown",
   "source": [
    "## IMMUTABLE SETS"
   ],
   "metadata": {
    "collapsed": false
   },
   "id": "1865af18db8905e8"
  },
  {
   "cell_type": "markdown",
   "source": [
    "In Python, frozenset is another built-in data structure, which is exactly like a set, except that it is immutable and so cannot be changed after creation.\n",
    "\n",
    "The order of the elements is also undefined.\n",
    "\n",
    "A frozenset is created by using the built-in function frozenset()."
   ],
   "metadata": {
    "collapsed": false
   },
   "id": "5419c1419940dc64"
  },
  {
   "cell_type": "code",
   "execution_count": 68,
   "outputs": [
    {
     "name": "stdout",
     "output_type": "stream",
     "text": [
      "frozenset({'data', 'using', 'structure', 'python'})\n"
     ]
    }
   ],
   "source": [
    "x = frozenset([\"data\", \"structure\", \"using\", \"python\"])\n",
    "\n",
    "print(x)"
   ],
   "metadata": {
    "collapsed": false,
    "ExecuteTime": {
     "end_time": "2024-02-03T07:17:18.766024700Z",
     "start_time": "2024-02-03T07:17:18.649215100Z"
    }
   },
   "id": "919043d4517925f6"
  },
  {
   "cell_type": "markdown",
   "source": [
    "Frozensets are useful when we want to use a set but require the use of an immutable object.\n",
    "\n",
    "Moreover, it is not possible to use set elements in the set, since they must also be immutable."
   ],
   "metadata": {
    "collapsed": false
   },
   "id": "401d0b4b0b92c8dc"
  },
  {
   "cell_type": "code",
   "execution_count": 69,
   "outputs": [
    {
     "ename": "TypeError",
     "evalue": "unhashable type: 'set'",
     "output_type": "error",
     "traceback": [
      "\u001B[1;31m---------------------------------------------------------------------------\u001B[0m",
      "\u001B[1;31mTypeError\u001B[0m                                 Traceback (most recent call last)",
      "\u001B[1;32m~\\AppData\\Local\\Temp\\ipykernel_18136\\1412286839.py\u001B[0m in \u001B[0;36m<module>\u001B[1;34m\u001B[0m\n\u001B[0;32m      3\u001B[0m \u001B[0ma13\u001B[0m \u001B[1;33m=\u001B[0m \u001B[0mset\u001B[0m\u001B[1;33m(\u001B[0m\u001B[1;33m[\u001B[0m\u001B[1;34m\"python\"\u001B[0m\u001B[1;33m]\u001B[0m\u001B[1;33m)\u001B[0m\u001B[1;33m\u001B[0m\u001B[1;33m\u001B[0m\u001B[0m\n\u001B[0;32m      4\u001B[0m \u001B[1;33m\u001B[0m\u001B[0m\n\u001B[1;32m----> 5\u001B[1;33m \u001B[0mx1\u001B[0m \u001B[1;33m=\u001B[0m \u001B[1;33m{\u001B[0m\u001B[0ma11\u001B[0m\u001B[1;33m,\u001B[0m \u001B[0ma12\u001B[0m\u001B[1;33m,\u001B[0m \u001B[0ma13\u001B[0m\u001B[1;33m}\u001B[0m\u001B[1;33m\u001B[0m\u001B[1;33m\u001B[0m\u001B[0m\n\u001B[0m",
      "\u001B[1;31mTypeError\u001B[0m: unhashable type: 'set'"
     ]
    }
   ],
   "source": [
    "a11 = set([\"data\"])\n",
    "a12 = set([\"structure\"])\n",
    "a13 = set([\"python\"])\n",
    "\n",
    "x1 = {a11, a12, a13}"
   ],
   "metadata": {
    "collapsed": false,
    "ExecuteTime": {
     "end_time": "2024-02-03T07:19:15.539724Z",
     "start_time": "2024-02-03T07:19:15.309243200Z"
    }
   },
   "id": "50cd0b3e6f32151e"
  },
  {
   "cell_type": "code",
   "execution_count": 71,
   "outputs": [
    {
     "name": "stdout",
     "output_type": "stream",
     "text": [
      "{frozenset({'structure'}), frozenset({'python'}), frozenset({'data'})}\n"
     ]
    }
   ],
   "source": [
    "# With frozenset\n",
    "\n",
    "a21 = frozenset([\"data\"])\n",
    "a22 = frozenset([\"structure\"])\n",
    "a23 = frozenset([\"python\"])\n",
    "\n",
    "x2 = {a21, a22, a23}\n",
    "print(x2)"
   ],
   "metadata": {
    "collapsed": false,
    "ExecuteTime": {
     "end_time": "2024-02-03T07:19:53.986123400Z",
     "start_time": "2024-02-03T07:19:53.837434700Z"
    }
   },
   "id": "a83e74432b088916"
  },
  {
   "cell_type": "markdown",
   "source": [
    "In the above example, we create a set x of frozensets (a1,a2, and a3) which is possible because the frozensets are immutable.\n",
    "\n"
   ],
   "metadata": {
    "collapsed": false
   },
   "id": "ae6531e0478bd04b"
  },
  {
   "cell_type": "markdown",
   "source": [
    "# PYTHON'S COLLECTIONS MODULE"
   ],
   "metadata": {
    "collapsed": false
   },
   "id": "e3059204a87f627d"
  },
  {
   "cell_type": "markdown",
   "source": [
    "The collections module provides diffent types of containers, which are objects that are used to store different objects and provide a way to access them.\n",
    "\n",
    "Before accessing these, let's consider briefly the role and relationships between modules, packages, and scripts.\n",
    "\n",
    "A **module** is a Python script with the `.py` extension that contains a collection of functions, classes, and variables.\n",
    "\n",
    "A **package** is a directory that contains collections of modules; it has an `__init__.py` file, which lets the interpreter know that it is a package.\n",
    "\n",
    "A module can be called into a Python script, which can in turn make use of module's functions and variables in its code.\n",
    "\n",
    "In Python, we can import these to a script using the `import` statement.\n",
    "\n",
    "Whenever the interpreter encounters the `import` statement, it imports the code of specified module into the current script.\n",
    "\n",
    "Please find data types and operations of the collections module and their descriptions below:"
   ],
   "metadata": {
    "collapsed": false
   },
   "id": "ae05fd421ba1bc55"
  },
  {
   "cell_type": "markdown",
   "source": [
    "Container Data Type: **namedtuple**\n",
    "\n",
    "Description: Creates a tuple with named fields similar to regular tuple.\n"
   ],
   "metadata": {
    "collapsed": false
   },
   "id": "1405464a42528eef"
  },
  {
   "cell_type": "markdown",
   "source": [
    "Container Data Type: **deque**\n",
    "\n",
    "Description: Doubly-linked lists that provide efficient adding and removing of items from both ends of the list.\n"
   ],
   "metadata": {
    "collapsed": false
   },
   "id": "a6c78363c56d6738"
  },
  {
   "cell_type": "markdown",
   "source": [
    "Container Data Type: **defaultdict**\n",
    "\n",
    "Description: A dictionary subclass that returns default values for missing keys."
   ],
   "metadata": {
    "collapsed": false
   },
   "id": "96ac687e1aae83dc"
  },
  {
   "cell_type": "markdown",
   "source": [
    "Container Data Type: **ChainMap**\n",
    "\n",
    "Description: A dictionary that merges multiple dictionaries."
   ],
   "metadata": {
    "collapsed": false
   },
   "id": "6353bfa9cb406732"
  },
  {
   "cell_type": "markdown",
   "source": [
    "Container Data Type: **Counter**\n",
    "\n",
    "Description: A dictionary that returns the counts corresponding to their objects/key."
   ],
   "metadata": {
    "collapsed": false
   },
   "id": "1abb745fe245e825"
  },
  {
   "cell_type": "markdown",
   "source": [
    "Container Data Type: **UserDict**, **UserList**, **UserString**\n",
    "\n",
    "Description: These data types are used to add more functionality to their base data structure.\n",
    "\n",
    "We can create a subclasses from them for custom dict/list/string."
   ],
   "metadata": {
    "collapsed": false
   },
   "id": "4959b5837b5e0352"
  },
  {
   "cell_type": "markdown",
   "source": [
    "# NAMED TUPLES"
   ],
   "metadata": {
    "collapsed": false
   },
   "id": "bffd5a6a19df02d5"
  },
  {
   "cell_type": "markdown",
   "source": [
    "The `namedtuple` of `collections` provides an extension of the built-in tuple data type.\n",
    "\n",
    "`namedtuple` objects are immutable, similar to standard tuples.\n",
    "\n",
    "Thus, we cannot add new field or modify existing ones after the `namedtuple` instance is created.\n",
    "\n",
    "They contain keys that are mapped to a particular value and we can iterate through named tuples either by index or key.\n",
    "\n",
    "The `namedtuple` function is mainly useful when several tuples are used in an application and it is important to keep tract of each of tuples in terms of what they represent.\n",
    "\n",
    "In this situation, namedtuple presents a more readable and self-documenting method."
   ],
   "metadata": {
    "collapsed": false
   },
   "id": "99b605614509664f"
  },
  {
   "cell_type": "markdown",
   "source": [
    "nt = namedtuple(typename, field_names)\n"
   ],
   "metadata": {
    "collapsed": false
   },
   "id": "ea7ae4283d9918bb"
  },
  {
   "cell_type": "code",
   "execution_count": 72,
   "outputs": [],
   "source": [
    "from collections import namedtuple\n",
    "\n",
    "Book = namedtuple('Book', [\"name\", \"ISBN\", \"quantity\"])"
   ],
   "metadata": {
    "collapsed": false,
    "ExecuteTime": {
     "end_time": "2024-02-03T08:22:38.230707200Z",
     "start_time": "2024-02-03T08:22:38.064044600Z"
    }
   },
   "id": "4e366b289d83d9e0"
  },
  {
   "cell_type": "code",
   "execution_count": 74,
   "outputs": [
    {
     "name": "stdout",
     "output_type": "stream",
     "text": [
      "Using index ISBN: 123456\n"
     ]
    }
   ],
   "source": [
    "book1 = Book(\"Data Structures\", \"123456\", \"50\")\n",
    "\n",
    "# Accesing Data Items\n",
    "\n",
    "print(f\"Using index ISBN: {book1.ISBN}\")\n"
   ],
   "metadata": {
    "collapsed": false,
    "ExecuteTime": {
     "end_time": "2024-02-03T08:24:17.338076300Z",
     "start_time": "2024-02-03T08:24:17.221265200Z"
    }
   },
   "id": "c10ad0bec4d323ea"
  },
  {
   "cell_type": "markdown",
   "source": [
    "Here, in the above code, we firstly imported `namedtuple` from the `collections` module.\n",
    "\n",
    "`Book` is a named tuple `class` and then book1 is created which is an instance of the `Book` class.\n",
    "\n",
    "We also see that the data elements can be accessed using index and key methods. "
   ],
   "metadata": {
    "collapsed": false
   },
   "id": "d5b62cbd99ae558b"
  },
  {
   "cell_type": "markdown",
   "source": [
    "# DEQUE"
   ],
   "metadata": {
    "collapsed": false
   },
   "id": "ee9938d832035bb3"
  },
  {
   "cell_type": "markdown",
   "source": [
    "A deque is a double-ended queue (deque) that supports append and pop elements from both sides of the list.\n",
    "\n",
    "Deques are implemented as a double-linked lists, which are very efficient for inserting and deleting elements in O(1) time complexity."
   ],
   "metadata": {
    "collapsed": false
   },
   "id": "f2715beb45eff7b7"
  },
  {
   "cell_type": "code",
   "execution_count": 75,
   "outputs": [
    {
     "name": "stdout",
     "output_type": "stream",
     "text": [
      "deque([])\n"
     ]
    }
   ],
   "source": [
    "from collections import deque\n",
    "\n",
    "# Creating empty deque\n",
    "\n",
    "s = deque()\n",
    "print(s)"
   ],
   "metadata": {
    "collapsed": false,
    "ExecuteTime": {
     "end_time": "2024-02-03T08:30:24.794157800Z",
     "start_time": "2024-02-03T08:30:24.594112600Z"
    }
   },
   "id": "75f8edb3210f3071"
  },
  {
   "cell_type": "code",
   "execution_count": 76,
   "outputs": [
    {
     "name": "stdout",
     "output_type": "stream",
     "text": [
      "deque([1, 2, 'name'])\n"
     ]
    }
   ],
   "source": [
    "my_quene = deque([1, 2, \"name\"])\n",
    "print(my_quene)"
   ],
   "metadata": {
    "collapsed": false,
    "ExecuteTime": {
     "end_time": "2024-02-03T08:31:04.705467500Z",
     "start_time": "2024-02-03T08:31:04.440169800Z"
    }
   },
   "id": "60c9202c087e46a3"
  },
  {
   "cell_type": "markdown",
   "source": [
    "Function: append(\"age\")\n",
    "\n",
    "Description: Insert \"age\" at the right end of the list.\n",
    "\n"
   ],
   "metadata": {
    "collapsed": false
   },
   "id": "9c7246152d582f74"
  },
  {
   "cell_type": "code",
   "execution_count": 77,
   "outputs": [
    {
     "name": "stdout",
     "output_type": "stream",
     "text": [
      "deque([1, 2, 'name', 'age'])\n"
     ]
    }
   ],
   "source": [
    "my_quene.append(\"age\")\n",
    "print(my_quene)"
   ],
   "metadata": {
    "collapsed": false,
    "ExecuteTime": {
     "end_time": "2024-02-03T08:32:18.421189200Z",
     "start_time": "2024-02-03T08:32:18.193003200Z"
    }
   },
   "id": "2e4944c2d21232d9"
  },
  {
   "cell_type": "markdown",
   "source": [
    "Function: appendleft(\"title\")\n",
    "\n",
    "Description: Insert \"title\" at the left end of the list."
   ],
   "metadata": {
    "collapsed": false
   },
   "id": "52d0cfd42acdf02f"
  },
  {
   "cell_type": "code",
   "execution_count": 78,
   "outputs": [],
   "source": [
    "my_quene.appendleft(\"title\")"
   ],
   "metadata": {
    "collapsed": false,
    "ExecuteTime": {
     "end_time": "2024-02-03T08:33:04.194647200Z",
     "start_time": "2024-02-03T08:33:03.928499400Z"
    }
   },
   "id": "ce3ddd11df4a0b2d"
  },
  {
   "cell_type": "code",
   "execution_count": 79,
   "outputs": [
    {
     "name": "stdout",
     "output_type": "stream",
     "text": [
      "deque(['title', 1, 2, 'name', 'age'])\n"
     ]
    }
   ],
   "source": [
    "print(my_quene)"
   ],
   "metadata": {
    "collapsed": false,
    "ExecuteTime": {
     "end_time": "2024-02-03T08:33:05.775632700Z",
     "start_time": "2024-02-03T08:33:05.494315400Z"
    }
   },
   "id": "8af297f35af8b0fd"
  },
  {
   "cell_type": "markdown",
   "source": [
    "Function: pop()\n",
    "\n",
    "Description: Remove and return an element from the right end of the list."
   ],
   "metadata": {
    "collapsed": false
   },
   "id": "d356eee3ed124158"
  },
  {
   "cell_type": "code",
   "execution_count": 80,
   "outputs": [
    {
     "name": "stdout",
     "output_type": "stream",
     "text": [
      "age\n"
     ]
    }
   ],
   "source": [
    "print(my_quene.pop())\n"
   ],
   "metadata": {
    "collapsed": false,
    "ExecuteTime": {
     "end_time": "2024-02-03T08:33:37.512597600Z",
     "start_time": "2024-02-03T08:33:37.031222700Z"
    }
   },
   "id": "c146b7d70526acca"
  },
  {
   "cell_type": "code",
   "execution_count": 81,
   "outputs": [
    {
     "name": "stdout",
     "output_type": "stream",
     "text": [
      "deque(['title', 1, 2, 'name'])\n"
     ]
    }
   ],
   "source": [
    "print(my_quene)"
   ],
   "metadata": {
    "collapsed": false,
    "ExecuteTime": {
     "end_time": "2024-02-03T08:34:00.725180700Z",
     "start_time": "2024-02-03T08:34:00.513623600Z"
    }
   },
   "id": "80704e429219d087"
  },
  {
   "cell_type": "markdown",
   "source": [
    "Function: popleft()\n",
    "\n",
    "Description: Remove and return an element from the left end of the list.\n"
   ],
   "metadata": {
    "collapsed": false
   },
   "id": "faf12291ca17801f"
  },
  {
   "cell_type": "code",
   "execution_count": 82,
   "outputs": [
    {
     "name": "stdout",
     "output_type": "stream",
     "text": [
      "title\n"
     ]
    }
   ],
   "source": [
    "print(my_quene.popleft())\n"
   ],
   "metadata": {
    "collapsed": false,
    "ExecuteTime": {
     "end_time": "2024-02-03T08:34:19.840599200Z",
     "start_time": "2024-02-03T08:34:19.630072300Z"
    }
   },
   "id": "be1fc39f1b6e016a"
  },
  {
   "cell_type": "code",
   "execution_count": 83,
   "outputs": [
    {
     "name": "stdout",
     "output_type": "stream",
     "text": [
      "deque([1, 2, 'name'])\n"
     ]
    }
   ],
   "source": [
    "print(my_quene)"
   ],
   "metadata": {
    "collapsed": false,
    "ExecuteTime": {
     "end_time": "2024-02-03T08:34:21.322888300Z",
     "start_time": "2024-02-03T08:34:21.123188200Z"
    }
   },
   "id": "927ab9a2a35d631e"
  },
  {
   "cell_type": "markdown",
   "source": [
    "# ORDERED DICTIONARY\n",
    "\n"
   ],
   "metadata": {
    "collapsed": false
   },
   "id": "52636079adfdf26c"
  },
  {
   "cell_type": "markdown",
   "source": [
    "An ordered dictionary is a dictionary that preserves the order of the keys that are inserted.\n",
    "\n",
    "If the key order is important for any application, then `OrderedDict` can be used:"
   ],
   "metadata": {
    "collapsed": false
   },
   "id": "9a76406c12464f17"
  },
  {
   "cell_type": "markdown",
   "source": [
    "od = OrderedDict([items])"
   ],
   "metadata": {
    "collapsed": false
   },
   "id": "89b0e0e2695b38bf"
  },
  {
   "cell_type": "code",
   "execution_count": 85,
   "outputs": [
    {
     "name": "stdout",
     "output_type": "stream",
     "text": [
      "OrderedDict([('my', 2), ('name', 4), ('is', 2), ('sevval', 6), ('unver', 4)])\n"
     ]
    }
   ],
   "source": [
    "from collections import OrderedDict\n",
    "\n",
    "od = OrderedDict({\n",
    "    \"my\": 2,\n",
    "    \"name\": 4,\n",
    "    \"is\": 2,\n",
    "    \"sevval\": 6})\n",
    "\n",
    "od[\"unver\"] = 4 \n",
    "\n",
    "print(od)"
   ],
   "metadata": {
    "collapsed": false,
    "ExecuteTime": {
     "end_time": "2024-02-03T08:49:15.003084300Z",
     "start_time": "2024-02-03T08:49:14.819919500Z"
    }
   },
   "id": "77eceff60586cc88"
  },
  {
   "cell_type": "markdown",
   "source": [
    "We can observe that the order of the keys is the same as the order when we created the key."
   ],
   "metadata": {
    "collapsed": false
   },
   "id": "a4a9d3f73381167c"
  },
  {
   "cell_type": "markdown",
   "source": [
    "# DEFAULT DICTIONARY\n"
   ],
   "metadata": {
    "collapsed": false
   },
   "id": "2b1c77b7f9d1fbc9"
  },
  {
   "cell_type": "markdown",
   "source": [
    "The default dictionary is a subclass of a build in dictionary class that has the same methods and operations as a dictionary class wtih only difference being that it never raises a KeyError.\n",
    "\n"
   ],
   "metadata": {
    "collapsed": false
   },
   "id": "24d75122876767ac"
  },
  {
   "cell_type": "markdown",
   "source": [
    "d = defaultdict(default_value)"
   ],
   "metadata": {
    "collapsed": false
   },
   "id": "703c5b0501585d3e"
  },
  {
   "cell_type": "code",
   "execution_count": 87,
   "outputs": [
    {
     "name": "stdout",
     "output_type": "stream",
     "text": [
      "defaultdict(<class 'int'>, {'data': 4, 'python': 2, 'structure': 1})\n"
     ]
    }
   ],
   "source": [
    "from collections import defaultdict\n",
    "\n",
    "dd = defaultdict(int)\n",
    "\n",
    "words = str.split(\"data python data data structure data python\")\n",
    "\n",
    "for word in words:\n",
    "    dd[word] += 1\n",
    "    \n",
    "print(dd)"
   ],
   "metadata": {
    "collapsed": false,
    "ExecuteTime": {
     "end_time": "2024-02-03T08:53:35.991065Z",
     "start_time": "2024-02-03T08:53:35.842044500Z"
    }
   },
   "id": "da99befdd98923f6"
  },
  {
   "cell_type": "markdown",
   "source": [
    "In the above example, if an ordinary dictionary had been used, then Python would have shown KeyError while the first key was added. \n",
    "\n",
    "int, which we supplied as an argument to defaultdict, is really the int() function, which simply returns a zero."
   ],
   "metadata": {
    "collapsed": false
   },
   "id": "544d72872fada687"
  },
  {
   "cell_type": "markdown",
   "source": [
    "# CHAINMAP OBJECT\n"
   ],
   "metadata": {
    "collapsed": false
   },
   "id": "f37340a854455bf1"
  },
  {
   "cell_type": "markdown",
   "source": [
    "`ChainMap` is used to create a list of dictionaries.\n",
    "\n",
    "The `collections.ChainMap` data structure combines several dictionaries into a single mapping.\n",
    "\n",
    "Whenever a key is searched in the chainmap, it looks through all the dictionaries one by one, until the key is not found:"
   ],
   "metadata": {
    "collapsed": false
   },
   "id": "4baeeb5209e5bc80"
  },
  {
   "cell_type": "markdown",
   "source": [
    "class collections.ChainMap(dict1, dict2)"
   ],
   "metadata": {
    "collapsed": false
   },
   "id": "70e23d4f3a972fc7"
  },
  {
   "cell_type": "code",
   "execution_count": 88,
   "outputs": [
    {
     "name": "stdout",
     "output_type": "stream",
     "text": [
      "ChainMap({'a': 1, 'b': 2}, {'c': 3, 'd': 4})\n"
     ]
    }
   ],
   "source": [
    "from collections import ChainMap\n",
    "\n",
    "dict1 = {'a': 1, 'b': 2}\n",
    "dict2 = {'c': 3, 'd': 4}\n",
    "\n",
    "chain = ChainMap(dict1, dict2)\n",
    "\n",
    "print(chain)\n"
   ],
   "metadata": {
    "collapsed": false,
    "ExecuteTime": {
     "end_time": "2024-02-03T09:02:29.376013300Z",
     "start_time": "2024-02-03T09:02:29.059685900Z"
    }
   },
   "id": "5b27b23b3b4bafe0"
  },
  {
   "cell_type": "code",
   "execution_count": 89,
   "outputs": [
    {
     "name": "stdout",
     "output_type": "stream",
     "text": [
      "['c', 'd', 'a', 'b']\n"
     ]
    }
   ],
   "source": [
    "print(list(chain.keys()))\n"
   ],
   "metadata": {
    "collapsed": false,
    "ExecuteTime": {
     "end_time": "2024-02-03T09:02:39.699625100Z",
     "start_time": "2024-02-03T09:02:39.333448600Z"
    }
   },
   "id": "603686b310ac86ae"
  },
  {
   "cell_type": "code",
   "execution_count": 90,
   "outputs": [
    {
     "name": "stdout",
     "output_type": "stream",
     "text": [
      "[3, 4, 1, 2]\n"
     ]
    }
   ],
   "source": [
    "print(list(chain.values()))"
   ],
   "metadata": {
    "collapsed": false,
    "ExecuteTime": {
     "end_time": "2024-02-03T09:03:03.927334400Z",
     "start_time": "2024-02-03T09:03:03.518290300Z"
    }
   },
   "id": "b613f33c78a99bfa"
  },
  {
   "cell_type": "code",
   "execution_count": 91,
   "outputs": [
    {
     "name": "stdout",
     "output_type": "stream",
     "text": [
      "1\n"
     ]
    }
   ],
   "source": [
    "print(chain['a'])\n"
   ],
   "metadata": {
    "collapsed": false,
    "ExecuteTime": {
     "end_time": "2024-02-03T09:03:11.370141600Z",
     "start_time": "2024-02-03T09:03:11.053994100Z"
    }
   },
   "id": "769fba8468582ffd"
  },
  {
   "cell_type": "code",
   "execution_count": 92,
   "outputs": [
    {
     "name": "stdout",
     "output_type": "stream",
     "text": [
      "3\n"
     ]
    }
   ],
   "source": [
    "print(chain['c'])"
   ],
   "metadata": {
    "collapsed": false,
    "ExecuteTime": {
     "end_time": "2024-02-03T09:03:13.401427800Z",
     "start_time": "2024-02-03T09:03:12.918695200Z"
    }
   },
   "id": "4d0817a43d0e2562"
  },
  {
   "cell_type": "markdown",
   "source": [
    "# COUNTER OBJECT"
   ],
   "metadata": {
    "collapsed": false
   },
   "id": "605714cdd86f40e8"
  },
  {
   "cell_type": "markdown",
   "source": [
    "A hashable object is one whose hash value will remain the same during its lifetime in the program.\n",
    "\n",
    "`counter` is used to count the number of hashable objects.\n",
    "\n",
    "Here, the dictionary key is a hashable object, while the corresponding value is the count of that object.\n",
    "\n",
    "In other words, counter objects create a hash table in which the elements and their count are stored as dictionary keys and value pairs.\n",
    "\n",
    "`Dictionary` and `counter` objects are similar in the sense that data is stored in a {key:value} pair, but in counter objects the value is the count of the key whereas it can be anything in the case of dictionary.\n",
    "\n",
    "Thus, when we only want to see how many times each unique word is occurring in a stirng, we use the `counter` object."
   ],
   "metadata": {
    "collapsed": false
   },
   "id": "db2a641352fc5078"
  },
  {
   "cell_type": "code",
   "execution_count": 95,
   "outputs": [
    {
     "name": "stdout",
     "output_type": "stream",
     "text": [
      "Counter({'l': 2, 'h': 1, 'e': 1, 'o': 1})\n"
     ]
    }
   ],
   "source": [
    "from collections import Counter\n",
    "\n",
    "inventory = Counter(\"hello\")\n",
    "\n",
    "print(inventory)"
   ],
   "metadata": {
    "collapsed": false,
    "ExecuteTime": {
     "end_time": "2024-02-03T09:12:52.809241900Z",
     "start_time": "2024-02-03T09:12:52.593335300Z"
    }
   },
   "id": "e8e2afc2ee0c1844"
  },
  {
   "cell_type": "markdown",
   "source": [
    "# USERDICT"
   ],
   "metadata": {
    "collapsed": false
   },
   "id": "e34a44714f39a50b"
  },
  {
   "cell_type": "markdown",
   "source": [
    "\n",
    "Python supports a container, `UserDict`, present in the collections module, that wraps the dictionary objects.\n",
    "\n",
    "We can add customized functions to the dictionary. This is very useful for applications where we want to add/update/modify the functionalities of the dictionary.\n",
    "\n"
   ],
   "metadata": {
    "collapsed": false
   },
   "id": "b4244573d8652ee2"
  },
  {
   "cell_type": "code",
   "execution_count": 96,
   "outputs": [
    {
     "ename": "RuntimeError",
     "evalue": "Cannot push to this dictionary",
     "output_type": "error",
     "traceback": [
      "\u001B[1;31m---------------------------------------------------------------------------\u001B[0m",
      "\u001B[1;31mRuntimeError\u001B[0m                              Traceback (most recent call last)",
      "\u001B[1;32m~\\AppData\\Local\\Temp\\ipykernel_18136\\1571455678.py\u001B[0m in \u001B[0;36m<module>\u001B[1;34m\u001B[0m\n\u001B[0;32m      9\u001B[0m \u001B[0md\u001B[0m \u001B[1;33m=\u001B[0m \u001B[0mMyDict\u001B[0m\u001B[1;33m(\u001B[0m\u001B[1;33m{\u001B[0m\u001B[1;34m\"ab\"\u001B[0m\u001B[1;33m:\u001B[0m \u001B[1;36m1\u001B[0m\u001B[1;33m,\u001B[0m \u001B[1;34m\"bc\"\u001B[0m\u001B[1;33m:\u001B[0m \u001B[1;36m2\u001B[0m\u001B[1;33m,\u001B[0m \u001B[1;34m\"cd\"\u001B[0m\u001B[1;33m:\u001B[0m \u001B[1;36m3\u001B[0m\u001B[1;33m}\u001B[0m\u001B[1;33m)\u001B[0m\u001B[1;33m\u001B[0m\u001B[1;33m\u001B[0m\u001B[0m\n\u001B[0;32m     10\u001B[0m \u001B[1;33m\u001B[0m\u001B[0m\n\u001B[1;32m---> 11\u001B[1;33m \u001B[0md\u001B[0m\u001B[1;33m.\u001B[0m\u001B[0mpush\u001B[0m\u001B[1;33m(\u001B[0m\u001B[1;34m\"b\"\u001B[0m\u001B[1;33m,\u001B[0m \u001B[1;36m2\u001B[0m\u001B[1;33m)\u001B[0m\u001B[1;33m\u001B[0m\u001B[1;33m\u001B[0m\u001B[0m\n\u001B[0m\u001B[0;32m     12\u001B[0m \u001B[1;33m\u001B[0m\u001B[0m\n\u001B[0;32m     13\u001B[0m \u001B[1;33m\u001B[0m\u001B[0m\n",
      "\u001B[1;32m~\\AppData\\Local\\Temp\\ipykernel_18136\\1571455678.py\u001B[0m in \u001B[0;36mpush\u001B[1;34m(self, key, value)\u001B[0m\n\u001B[0;32m      5\u001B[0m \u001B[1;32mclass\u001B[0m \u001B[0mMyDict\u001B[0m\u001B[1;33m(\u001B[0m\u001B[0mUserDict\u001B[0m\u001B[1;33m)\u001B[0m\u001B[1;33m:\u001B[0m\u001B[1;33m\u001B[0m\u001B[1;33m\u001B[0m\u001B[0m\n\u001B[0;32m      6\u001B[0m     \u001B[1;32mdef\u001B[0m \u001B[0mpush\u001B[0m\u001B[1;33m(\u001B[0m\u001B[0mself\u001B[0m\u001B[1;33m,\u001B[0m \u001B[0mkey\u001B[0m\u001B[1;33m,\u001B[0m \u001B[0mvalue\u001B[0m\u001B[1;33m)\u001B[0m\u001B[1;33m:\u001B[0m\u001B[1;33m\u001B[0m\u001B[1;33m\u001B[0m\u001B[0m\n\u001B[1;32m----> 7\u001B[1;33m         \u001B[1;32mraise\u001B[0m \u001B[0mRuntimeError\u001B[0m\u001B[1;33m(\u001B[0m\u001B[1;34m\"Cannot push to this dictionary\"\u001B[0m\u001B[1;33m)\u001B[0m\u001B[1;33m\u001B[0m\u001B[1;33m\u001B[0m\u001B[0m\n\u001B[0m\u001B[0;32m      8\u001B[0m \u001B[1;33m\u001B[0m\u001B[0m\n\u001B[0;32m      9\u001B[0m \u001B[0md\u001B[0m \u001B[1;33m=\u001B[0m \u001B[0mMyDict\u001B[0m\u001B[1;33m(\u001B[0m\u001B[1;33m{\u001B[0m\u001B[1;34m\"ab\"\u001B[0m\u001B[1;33m:\u001B[0m \u001B[1;36m1\u001B[0m\u001B[1;33m,\u001B[0m \u001B[1;34m\"bc\"\u001B[0m\u001B[1;33m:\u001B[0m \u001B[1;36m2\u001B[0m\u001B[1;33m,\u001B[0m \u001B[1;34m\"cd\"\u001B[0m\u001B[1;33m:\u001B[0m \u001B[1;36m3\u001B[0m\u001B[1;33m}\u001B[0m\u001B[1;33m)\u001B[0m\u001B[1;33m\u001B[0m\u001B[1;33m\u001B[0m\u001B[0m\n",
      "\u001B[1;31mRuntimeError\u001B[0m: Cannot push to this dictionary"
     ]
    }
   ],
   "source": [
    "# We cannot push to this user dictionary\n",
    "\n",
    "from collections import UserDict\n",
    "\n",
    "class MyDict(UserDict):\n",
    "    def push(self, key, value):\n",
    "        raise RuntimeError(\"Cannot push to this dictionary\")\n",
    "    \n",
    "d = MyDict({\"ab\": 1, \"bc\": 2, \"cd\": 3})\n",
    "\n",
    "d.push(\"b\", 2)\n",
    "\n"
   ],
   "metadata": {
    "collapsed": false,
    "ExecuteTime": {
     "end_time": "2024-02-03T09:20:17.210256800Z",
     "start_time": "2024-02-03T09:20:16.975880400Z"
    }
   },
   "id": "4aa73b76e0dbb133"
  },
  {
   "cell_type": "markdown",
   "source": [
    "In the above code, a customized push function in the MyDict class is created to add the customized functionality, which does not allow you to insert an element into the dictionary."
   ],
   "metadata": {
    "collapsed": false
   },
   "id": "fc8b250bcab434b7"
  },
  {
   "cell_type": "markdown",
   "source": [
    "# USERLIST\n",
    "\n"
   ],
   "metadata": {
    "collapsed": false
   },
   "id": "57c7a9d609513e7f"
  },
  {
   "cell_type": "markdown",
   "source": [
    "A UserList is a container that wraps list objects.\n",
    "\n",
    "It can be used to extend the functionalities of the list data structure.\n",
    "\n",
    "Consider the below example, where pushing/adding a new data element is not allowed in the list data structure."
   ],
   "metadata": {
    "collapsed": false
   },
   "id": "a5d5ad586b0a967b"
  },
  {
   "cell_type": "code",
   "execution_count": 97,
   "outputs": [
    {
     "ename": "RuntimeError",
     "evalue": "Cannot push to this list",
     "output_type": "error",
     "traceback": [
      "\u001B[1;31m---------------------------------------------------------------------------\u001B[0m",
      "\u001B[1;31mRuntimeError\u001B[0m                              Traceback (most recent call last)",
      "\u001B[1;32m~\\AppData\\Local\\Temp\\ipykernel_18136\\2712814516.py\u001B[0m in \u001B[0;36m<module>\u001B[1;34m\u001B[0m\n\u001B[0;32m      8\u001B[0m \u001B[1;33m\u001B[0m\u001B[0m\n\u001B[0;32m      9\u001B[0m \u001B[0ml\u001B[0m \u001B[1;33m=\u001B[0m \u001B[0mMyList\u001B[0m\u001B[1;33m(\u001B[0m\u001B[1;33m[\u001B[0m\u001B[1;36m1\u001B[0m\u001B[1;33m,\u001B[0m \u001B[1;36m2\u001B[0m\u001B[1;33m,\u001B[0m \u001B[1;36m3\u001B[0m\u001B[1;33m]\u001B[0m\u001B[1;33m)\u001B[0m\u001B[1;33m\u001B[0m\u001B[1;33m\u001B[0m\u001B[0m\n\u001B[1;32m---> 10\u001B[1;33m \u001B[0ml\u001B[0m\u001B[1;33m.\u001B[0m\u001B[0mpush\u001B[0m\u001B[1;33m(\u001B[0m\u001B[1;36m4\u001B[0m\u001B[1;33m)\u001B[0m\u001B[1;33m\u001B[0m\u001B[1;33m\u001B[0m\u001B[0m\n\u001B[0m",
      "\u001B[1;32m~\\AppData\\Local\\Temp\\ipykernel_18136\\2712814516.py\u001B[0m in \u001B[0;36mpush\u001B[1;34m(self, value)\u001B[0m\n\u001B[0;32m      5\u001B[0m \u001B[1;32mclass\u001B[0m \u001B[0mMyList\u001B[0m\u001B[1;33m(\u001B[0m\u001B[0mUserList\u001B[0m\u001B[1;33m)\u001B[0m\u001B[1;33m:\u001B[0m\u001B[1;33m\u001B[0m\u001B[1;33m\u001B[0m\u001B[0m\n\u001B[0;32m      6\u001B[0m     \u001B[1;32mdef\u001B[0m \u001B[0mpush\u001B[0m\u001B[1;33m(\u001B[0m\u001B[0mself\u001B[0m\u001B[1;33m,\u001B[0m \u001B[0mvalue\u001B[0m\u001B[1;33m)\u001B[0m\u001B[1;33m:\u001B[0m\u001B[1;33m\u001B[0m\u001B[1;33m\u001B[0m\u001B[0m\n\u001B[1;32m----> 7\u001B[1;33m         \u001B[1;32mraise\u001B[0m \u001B[0mRuntimeError\u001B[0m\u001B[1;33m(\u001B[0m\u001B[1;34m\"Cannot push to this list\"\u001B[0m\u001B[1;33m)\u001B[0m\u001B[1;33m\u001B[0m\u001B[1;33m\u001B[0m\u001B[0m\n\u001B[0m\u001B[0;32m      8\u001B[0m \u001B[1;33m\u001B[0m\u001B[0m\n\u001B[0;32m      9\u001B[0m \u001B[0ml\u001B[0m \u001B[1;33m=\u001B[0m \u001B[0mMyList\u001B[0m\u001B[1;33m(\u001B[0m\u001B[1;33m[\u001B[0m\u001B[1;36m1\u001B[0m\u001B[1;33m,\u001B[0m \u001B[1;36m2\u001B[0m\u001B[1;33m,\u001B[0m \u001B[1;36m3\u001B[0m\u001B[1;33m]\u001B[0m\u001B[1;33m)\u001B[0m\u001B[1;33m\u001B[0m\u001B[1;33m\u001B[0m\u001B[0m\n",
      "\u001B[1;31mRuntimeError\u001B[0m: Cannot push to this list"
     ]
    }
   ],
   "source": [
    "# We cannot push to this user list\n",
    "\n",
    "from collections import UserList\n",
    "\n",
    "class MyList(UserList):\n",
    "    def push(self, value):\n",
    "        raise RuntimeError(\"Cannot push to this list\")\n",
    "    \n",
    "l = MyList([1, 2, 3])\n",
    "l.push(4)"
   ],
   "metadata": {
    "collapsed": false,
    "ExecuteTime": {
     "end_time": "2024-02-03T09:23:13.428293900Z",
     "start_time": "2024-02-03T09:23:13.128648100Z"
    }
   },
   "id": "aacda6b93d2bd950"
  },
  {
   "cell_type": "markdown",
   "source": [
    "# USERSTRING\n"
   ],
   "metadata": {
    "collapsed": false
   },
   "id": "2f766f7b3ba7dfc2"
  },
  {
   "cell_type": "markdown",
   "source": [
    "Strings can be considered as an array of characters. \n",
    "\n",
    "In Python, a character is a string of one length and acts as a container that wraps a sting object.\n",
    "\n",
    "It can be used to create strings with customized functionalities."
   ],
   "metadata": {
    "collapsed": false
   },
   "id": "9b69b7dd1494a90c"
  },
  {
   "cell_type": "code",
   "execution_count": 98,
   "outputs": [
    {
     "name": "stdout",
     "output_type": "stream",
     "text": [
      "Original: Hello\n",
      "Appended: Hello World\n"
     ]
    }
   ],
   "source": [
    "# Create a custom append function for string\n",
    "\n",
    "from collections import UserString\n",
    "\n",
    "class MyString(UserString):\n",
    "    def append(self, value):\n",
    "        self.data += value\n",
    "        \n",
    "s1 = MyString(\"Hello\")\n",
    "\n",
    "print(\"Original:\", s1)\n",
    "\n",
    "s1.append(\" World\")\n",
    "\n",
    "print(\"Appended:\", s1)"
   ],
   "metadata": {
    "collapsed": false,
    "ExecuteTime": {
     "end_time": "2024-02-03T09:27:14.236095100Z",
     "start_time": "2024-02-03T09:27:14.006981900Z"
    }
   },
   "id": "98ede32117f95593"
  },
  {
   "cell_type": "markdown",
   "source": [
    "In the above example code, a customized append function in the MyString class is created to add the functionality to append a string."
   ],
   "metadata": {
    "collapsed": false
   },
   "id": "4412f4b3c030629a"
  },
  {
   "cell_type": "code",
   "execution_count": null,
   "outputs": [],
   "source": [],
   "metadata": {
    "collapsed": false
   },
   "id": "a216201b1042a388"
  }
 ],
 "metadata": {
  "kernelspec": {
   "display_name": "Python 3",
   "language": "python",
   "name": "python3"
  },
  "language_info": {
   "codemirror_mode": {
    "name": "ipython",
    "version": 2
   },
   "file_extension": ".py",
   "mimetype": "text/x-python",
   "name": "python",
   "nbconvert_exporter": "python",
   "pygments_lexer": "ipython2",
   "version": "2.7.6"
  }
 },
 "nbformat": 4,
 "nbformat_minor": 5
}
