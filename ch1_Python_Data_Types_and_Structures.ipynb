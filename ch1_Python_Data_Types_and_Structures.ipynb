{
 "cells": [
  {
   "cell_type": "markdown",
   "source": [
    "# PYTHON DATA TYPES and STRUCTURES"
   ],
   "metadata": {
    "collapsed": false
   },
   "id": "d0ad93db953ebb2a"
  },
  {
   "cell_type": "markdown",
   "source": [
    "An algorithm can be defined as a set of step by step instructions to solve any given problem.\n",
    "\n",
    "An algorithm processes the data and produces the output results based on the specific problem.\n",
    "\n",
    "Data structures deal with how the data is stored and organized in the memory of computer that is going to be used in a program. \n",
    "\n",
    "The data used by the algorithm to solve problem has to be stored and organized efficiently in the computer memory for the efficient implementation of the software.\n",
    "\n",
    "The performance of the system depends upon the efficient access and retrival of the data, and that depends upon how well the data structures that store and organize the data in the system are chosen.\n"
   ],
   "metadata": {
    "collapsed": false
   },
   "id": "4bf9471c34126208"
  },
  {
   "cell_type": "markdown",
   "source": [
    "# Overview of Data Types and Objects"
   ],
   "metadata": {
    "collapsed": false
   },
   "id": "a7942175b92dbecc"
  },
  {
   "cell_type": "markdown",
   "source": [
    "The performance or efficiency of the computer program also depends highly on how the data is stored in the memory of a computer, which is then going to be used in the algorithm.\n",
    "\n",
    "The data to be used in an algorithm has to be stored in variables, which differ depending upon what kind of values are going to be stored in those variables.\n",
    "\n",
    "These are called **data types**.\n",
    "\n",
    "The variables are containers that can store the values, and the values are the contents of different data types.\n",
    "\n",
    "In Python, data types of the variable type can be checked using the type() function. "
   ],
   "metadata": {
    "collapsed": false
   },
   "id": "82b8ddda3ef90f6d"
  },
  {
   "cell_type": "code",
   "execution_count": 1,
   "outputs": [],
   "source": [
    "p = \"Hello World\"\n",
    "q = 10\n",
    "r = 986.89"
   ],
   "metadata": {
    "collapsed": false,
    "ExecuteTime": {
     "end_time": "2024-01-14T14:23:04.982421600Z",
     "start_time": "2024-01-14T14:23:04.966781300Z"
    }
   },
   "id": "5338b90a0887e7f8"
  },
  {
   "cell_type": "code",
   "execution_count": 2,
   "outputs": [
    {
     "name": "stdout",
     "output_type": "stream",
     "text": [
      "<class 'str'>\n",
      "<class 'int'>\n",
      "<class 'float'>\n"
     ]
    }
   ],
   "source": [
    "print(type(p))\n",
    "print(type(q))\n",
    "print(type(r))"
   ],
   "metadata": {
    "collapsed": false,
    "ExecuteTime": {
     "end_time": "2024-01-14T14:23:08.790611200Z",
     "start_time": "2024-01-14T14:23:08.603129900Z"
    }
   },
   "id": "d1bf43a6b9f9a3be"
  },
  {
   "cell_type": "markdown",
   "source": [
    "In Python, every item of data is an object of a specific type.\n",
    "\n",
    "The principal built-in types are as follows and will be discussed in more detail in the following sections:\n",
    "\n",
    "- Numeric Types: Integer, Float, Complex\n",
    "- Boolean Type: Bool\n",
    "- Sequence Types: String, List, Tuple, Range\n",
    "- Mapping Type: Dictionary\n",
    "- Set Types: Set, Frozen Set\n"
   ],
   "metadata": {
    "collapsed": false
   },
   "id": "fb27052f4d9896f7"
  },
  {
   "cell_type": "markdown",
   "source": [
    "# Basic Data Types\n",
    "## Numeric Types"
   ],
   "metadata": {
    "collapsed": false
   },
   "id": "28bd75d8f476f3b0"
  },
  {
   "cell_type": "markdown",
   "source": [
    "Numeric data type variables store numeric values.\n",
    "\n",
    "- $Integer$: The interpreter takes a sequence of decimal digits as a decimal value, such as 45,1000 or -25.\n",
    "\n",
    "- $Float$: The interpreter takes a sequence of decimal digits with a decimal point as a decimal value, such as 45.89, 1000.0 or -25.0.\n",
    "\n",
    "- $Complex$: A complex number is represented using two floating-point values. It contains an ordered pair, such as a + ib. Here, a and b denote real numbers and i denotes the imaginary component. The complex numbers take the form of 3.0 + 1.3i, 4.0i, and so on."
   ],
   "metadata": {
    "collapsed": false
   },
   "id": "7b322ed2ef6bfe9d"
  },
  {
   "cell_type": "markdown",
   "source": [
    "## Boolean Type"
   ],
   "metadata": {
    "collapsed": false
   },
   "id": "91b8cecc4bbdaa30"
  },
  {
   "cell_type": "markdown",
   "source": [
    "Boolean data type provides a value of either True or False, checking whether any statement is true or false.\n",
    "\n",
    "`True` can be represented as any non-zero value, whereas `False` is represented as 0."
   ],
   "metadata": {
    "collapsed": false
   },
   "id": "9c54698c9234f193"
  },
  {
   "cell_type": "code",
   "execution_count": 3,
   "outputs": [
    {
     "name": "stdout",
     "output_type": "stream",
     "text": [
      "<class 'bool'>\n"
     ]
    }
   ],
   "source": [
    "print(type(bool(22)))"
   ],
   "metadata": {
    "collapsed": false,
    "ExecuteTime": {
     "end_time": "2024-01-15T03:13:11.262379400Z",
     "start_time": "2024-01-15T03:13:11.230986800Z"
    }
   },
   "id": "bba723a0ad6dc68e"
  },
  {
   "cell_type": "code",
   "execution_count": 4,
   "outputs": [
    {
     "name": "stdout",
     "output_type": "stream",
     "text": [
      "<class 'bool'>\n"
     ]
    }
   ],
   "source": [
    "print(type(True))"
   ],
   "metadata": {
    "collapsed": false,
    "ExecuteTime": {
     "end_time": "2024-01-15T03:13:27.352721800Z",
     "start_time": "2024-01-15T03:13:27.311732100Z"
    }
   },
   "id": "7a78467a71f06db1"
  },
  {
   "cell_type": "code",
   "execution_count": 5,
   "outputs": [
    {
     "name": "stdout",
     "output_type": "stream",
     "text": [
      "<class 'bool'>\n"
     ]
    }
   ],
   "source": [
    "print(type(False))"
   ],
   "metadata": {
    "collapsed": false,
    "ExecuteTime": {
     "end_time": "2024-01-15T03:13:29.134700800Z",
     "start_time": "2024-01-15T03:13:29.080240200Z"
    }
   },
   "id": "64a35c2ca6357dbe"
  },
  {
   "cell_type": "markdown",
   "source": [
    "## Sequence Types"
   ],
   "metadata": {
    "collapsed": false
   },
   "id": "da7678d63dedb3fe"
  },
  {
   "cell_type": "markdown",
   "source": [
    "Sequence data types are used to store multiple values in a single variable in an organized and efficient way.\n",
    "\n",
    "There are four basic sequence types:\n"
   ],
   "metadata": {
    "collapsed": false
   },
   "id": "fefe06792ebaccd1"
  },
  {
   "cell_type": "markdown",
   "source": [
    "## String"
   ],
   "metadata": {
    "collapsed": false
   },
   "id": "fc629d95c5385c31"
  },
  {
   "cell_type": "markdown",
   "source": [
    "A string is an immutable sequence of characters represented in single, double, or triple quotes.\n",
    "\n",
    "Immutable means that once a data type has been assigned some value, it cannot be changed.\n"
   ],
   "metadata": {
    "collapsed": false
   },
   "id": "5a65cf2c5a0e0a74"
  },
  {
   "cell_type": "code",
   "execution_count": 6,
   "outputs": [
    {
     "name": "stdout",
     "output_type": "stream",
     "text": [
      "Hello World\n",
      "Hello World\n",
      "Multi\n",
      "line String\n"
     ]
    }
   ],
   "source": [
    "str1 = 'Hello World'\n",
    "str2 = \"Hello World\"\n",
    "str3 = \"\"\"Multi\n",
    "line String\"\"\"\n",
    "\n",
    "print(str1)\n",
    "print(str2)\n",
    "print(str3)"
   ],
   "metadata": {
    "collapsed": false,
    "ExecuteTime": {
     "end_time": "2024-01-15T03:20:16.502436100Z",
     "start_time": "2024-01-15T03:20:16.414628Z"
    }
   },
   "id": "9f72c08a9a875bd2"
  },
  {
   "cell_type": "markdown",
   "source": [
    "The `+` operator is used to concatenate two strings."
   ],
   "metadata": {
    "collapsed": false
   },
   "id": "e1351c37354293d7"
  },
  {
   "cell_type": "code",
   "execution_count": 7,
   "outputs": [
    {
     "name": "stdout",
     "output_type": "stream",
     "text": [
      "John Doe\n",
      "Jane Doe\n"
     ]
    }
   ],
   "source": [
    "first_name = \"John\"\n",
    "last_name = \"Doe\"\n",
    "\n",
    "print(first_name + \" \" + last_name)\n",
    "print(\"Jane\" + \" \" + \"Doe\")"
   ],
   "metadata": {
    "collapsed": false,
    "ExecuteTime": {
     "end_time": "2024-01-15T03:21:54.878689100Z",
     "start_time": "2024-01-15T03:21:54.814418800Z"
    }
   },
   "id": "abfd59c3725dbb9"
  },
  {
   "cell_type": "markdown",
   "source": [
    "The `*` operator is used to repeat the string."
   ],
   "metadata": {
    "collapsed": false
   },
   "id": "6e4df00e6431f7b8"
  },
  {
   "cell_type": "code",
   "execution_count": 9,
   "outputs": [
    {
     "name": "stdout",
     "output_type": "stream",
     "text": [
      "Sevval Sevval Sevval \n"
     ]
    }
   ],
   "source": [
    "st = \"Sevval \"\n",
    "print(st * 3)"
   ],
   "metadata": {
    "collapsed": false,
    "ExecuteTime": {
     "end_time": "2024-01-15T03:22:53.250294900Z",
     "start_time": "2024-01-15T03:22:53.222570300Z"
    }
   },
   "id": "e9146a877057bfe4"
  },
  {
   "cell_type": "markdown",
   "source": [
    "## Range"
   ],
   "metadata": {
    "collapsed": false
   },
   "id": "ca9f6e3ab0481d0f"
  },
  {
   "cell_type": "markdown",
   "source": [
    "The range data type represents an immutable sequence of numbers.\n",
    "\n",
    "It is mainly used in `for` and `while` loops.\n",
    "\n",
    "It returns a sequence of numbers starting form a given number up to a number specified by the function argument.\n",
    "\n",
    "`range(start, stop, step)`"
   ],
   "metadata": {
    "collapsed": false
   },
   "id": "5052e6c8126da9e"
  },
  {
   "cell_type": "code",
   "execution_count": 10,
   "outputs": [
    {
     "name": "stdout",
     "output_type": "stream",
     "text": [
      "[0, 1, 2, 3, 4, 5, 6, 7, 8, 9]\n"
     ]
    }
   ],
   "source": [
    "print(list(range(10)))"
   ],
   "metadata": {
    "collapsed": false,
    "ExecuteTime": {
     "end_time": "2024-01-15T03:39:46.629635200Z",
     "start_time": "2024-01-15T03:39:46.503245400Z"
    }
   },
   "id": "626fc60258c3ebe1"
  },
  {
   "cell_type": "code",
   "execution_count": 11,
   "outputs": [
    {
     "name": "stdout",
     "output_type": "stream",
     "text": [
      "range(0, 10)\n"
     ]
    }
   ],
   "source": [
    "print(range(10))"
   ],
   "metadata": {
    "collapsed": false,
    "ExecuteTime": {
     "end_time": "2024-01-15T03:39:57.286328200Z",
     "start_time": "2024-01-15T03:39:57.175580300Z"
    }
   },
   "id": "99f32cff75574ee5"
  },
  {
   "cell_type": "code",
   "execution_count": 12,
   "outputs": [
    {
     "name": "stdout",
     "output_type": "stream",
     "text": [
      "[1, 3, 5, 7, 9]\n"
     ]
    }
   ],
   "source": [
    "print(list(range(1, 10, 2)))"
   ],
   "metadata": {
    "collapsed": false,
    "ExecuteTime": {
     "end_time": "2024-01-15T03:40:35.933766100Z",
     "start_time": "2024-01-15T03:40:35.820163500Z"
    }
   },
   "id": "413f730f6fac01ab"
  },
  {
   "cell_type": "code",
   "execution_count": 15,
   "outputs": [
    {
     "name": "stdout",
     "output_type": "stream",
     "text": [
      "[10, 8, 6, 4, 2]\n"
     ]
    }
   ],
   "source": [
    "print(list(range(10, 1, -2)))"
   ],
   "metadata": {
    "collapsed": false,
    "ExecuteTime": {
     "end_time": "2024-01-15T03:41:09.447380300Z",
     "start_time": "2024-01-15T03:41:09.420622Z"
    }
   },
   "id": "3042dc8287ea7f6b"
  },
  {
   "cell_type": "markdown",
   "source": [
    "## Lists"
   ],
   "metadata": {
    "collapsed": false
   },
   "id": "c1d44a193d134e61"
  },
  {
   "cell_type": "markdown",
   "source": [
    "Python lists are used to store multiple items in a single variable.\n",
    "\n",
    "Duplicate values are allowed in a list, and elements can be of different types, you can have both numeric and string data in a Python list.\n",
    "\n",
    "The items stored in the list are enclosed within square bracket, [], and separated with a comma.\n"
   ],
   "metadata": {
    "collapsed": false
   },
   "id": "b2f7bc7f17f964e9"
  },
  {
   "cell_type": "code",
   "execution_count": 16,
   "outputs": [
    {
     "name": "stdout",
     "output_type": "stream",
     "text": [
      "[10, 'India', 'world', 8]\n"
     ]
    }
   ],
   "source": [
    "a = [10, \"India\", 'world', 8]\n",
    "print(a)"
   ],
   "metadata": {
    "collapsed": false,
    "ExecuteTime": {
     "end_time": "2024-01-15T11:55:06.557772400Z",
     "start_time": "2024-01-15T11:55:06.526535800Z"
    }
   },
   "id": "1229222901fadb06"
  },
  {
   "cell_type": "code",
   "execution_count": 18,
   "outputs": [
    {
     "name": "stdout",
     "output_type": "stream",
     "text": [
      "India\n"
     ]
    }
   ],
   "source": [
    "print(a[1])"
   ],
   "metadata": {
    "collapsed": false,
    "ExecuteTime": {
     "end_time": "2024-01-15T11:55:15.330090Z",
     "start_time": "2024-01-15T11:55:15.282777500Z"
    }
   },
   "id": "3f232b0eae3cbaef"
  },
  {
   "cell_type": "markdown",
   "source": [
    "The list elements can be accessed by its index number. The list elements are ordered and dynamic.\n",
    "\n",
    "It can contain any arbitrary object that are so desired.\n",
    "\n",
    "In addition, the list data structure is mutable, whereas most of the other data types, such as integer and float, are immutable.\n",
    "\n",
    "Seeing as a list is a mutable data type, once created the list elements can be added, deleted, shifted and moved with the list.\n",
    "\n"
   ],
   "metadata": {
    "collapsed": false
   },
   "id": "54b08c0794fd9352"
  },
  {
   "cell_type": "markdown",
   "source": [
    "### Properties of Lists"
   ],
   "metadata": {
    "collapsed": false
   },
   "id": "c1bcb91b434ba377"
  },
  {
   "cell_type": "markdown",
   "source": [
    "1-) Lists are ordered.\n",
    "\n",
    "The list elements are ordered in a sequence in which they are specified in the list at the time of defining them.\n",
    "\n",
    "This order does not need to change and remains innate for its lifetime."
   ],
   "metadata": {
    "collapsed": false
   },
   "id": "f584e901ee18f433"
  },
  {
   "cell_type": "code",
   "execution_count": 19,
   "outputs": [
    {
     "data": {
      "text/plain": "False"
     },
     "execution_count": 19,
     "metadata": {},
     "output_type": "execute_result"
    }
   ],
   "source": [
    "ordered1=[10,12,31,14]\n",
    "ordered2=[14,10,31,12]\n",
    "\n",
    "ordered1==ordered2"
   ],
   "metadata": {
    "collapsed": false,
    "ExecuteTime": {
     "end_time": "2024-01-15T12:03:18.595020Z",
     "start_time": "2024-01-15T12:03:18.500864700Z"
    }
   },
   "id": "95734b3e25281a27"
  },
  {
   "cell_type": "markdown",
   "source": [
    "2-) Lists are dynamic.\n",
    "\n",
    "The list is dynamic, which means that the list elements can be added, deleted, shifted and moved with the list."
   ],
   "metadata": {
    "collapsed": false
   },
   "id": "35ff06f543f2a8fa"
  },
  {
   "cell_type": "code",
   "execution_count": 20,
   "outputs": [],
   "source": [
    "b = ['data', 'and', 'book', 'structure', 'hello', 'st']"
   ],
   "metadata": {
    "collapsed": false,
    "ExecuteTime": {
     "end_time": "2024-01-15T12:07:50.287266700Z",
     "start_time": "2024-01-15T12:07:50.239920Z"
    }
   },
   "id": "433cb7598315b876"
  },
  {
   "cell_type": "code",
   "execution_count": 21,
   "outputs": [],
   "source": [
    "b+=[999]"
   ],
   "metadata": {
    "collapsed": false,
    "ExecuteTime": {
     "end_time": "2024-01-15T12:08:06.762065300Z",
     "start_time": "2024-01-15T12:08:06.730791600Z"
    }
   },
   "id": "ec2cb7f94ec530c1"
  },
  {
   "cell_type": "code",
   "execution_count": 22,
   "outputs": [
    {
     "name": "stdout",
     "output_type": "stream",
     "text": [
      "['data', 'and', 'book', 'structure', 'hello', 'st', 999]\n"
     ]
    }
   ],
   "source": [
    "print(b)"
   ],
   "metadata": {
    "collapsed": false,
    "ExecuteTime": {
     "end_time": "2024-01-15T12:08:10.815329500Z",
     "start_time": "2024-01-15T12:08:10.772846Z"
    }
   },
   "id": "b6babbf7b7910c88"
  },
  {
   "cell_type": "code",
   "execution_count": 23,
   "outputs": [],
   "source": [
    "b[2:3]=[]"
   ],
   "metadata": {
    "collapsed": false,
    "ExecuteTime": {
     "end_time": "2024-01-15T12:08:31.188141800Z",
     "start_time": "2024-01-15T12:08:31.125603900Z"
    }
   },
   "id": "cc65287badc72f7a"
  },
  {
   "cell_type": "code",
   "execution_count": 24,
   "outputs": [
    {
     "name": "stdout",
     "output_type": "stream",
     "text": [
      "['data', 'and', 'structure', 'hello', 'st', 999]\n"
     ]
    }
   ],
   "source": [
    "print(b)"
   ],
   "metadata": {
    "collapsed": false,
    "ExecuteTime": {
     "end_time": "2024-01-15T12:08:36.796750800Z",
     "start_time": "2024-01-15T12:08:36.765461700Z"
    }
   },
   "id": "f9f37198b1babdeb"
  },
  {
   "cell_type": "code",
   "execution_count": 25,
   "outputs": [],
   "source": [
    "del b[0]"
   ],
   "metadata": {
    "collapsed": false,
    "ExecuteTime": {
     "end_time": "2024-01-15T12:09:01.762536600Z",
     "start_time": "2024-01-15T12:09:01.687225600Z"
    }
   },
   "id": "e6616ad1b06b0d5e"
  },
  {
   "cell_type": "code",
   "execution_count": 26,
   "outputs": [
    {
     "name": "stdout",
     "output_type": "stream",
     "text": [
      "['and', 'structure', 'hello', 'st', 999]\n"
     ]
    }
   ],
   "source": [
    "print(b)"
   ],
   "metadata": {
    "collapsed": false,
    "ExecuteTime": {
     "end_time": "2024-01-15T12:09:03.130826700Z",
     "start_time": "2024-01-15T12:09:03.067873200Z"
    }
   },
   "id": "754d85d430162a10"
  },
  {
   "cell_type": "markdown",
   "source": [
    "3-) List elements can be any arbitrary set of objects.\n",
    "\n",
    "List elements can be of the same type or different data types."
   ],
   "metadata": {
    "collapsed": false
   },
   "id": "a927f52491f55ae8"
  },
  {
   "cell_type": "code",
   "execution_count": 27,
   "outputs": [
    {
     "name": "stdout",
     "output_type": "stream",
     "text": [
      "[2.2, 'python', 31, 14, 'data', True]\n"
     ]
    }
   ],
   "source": [
    "a = [2.2 , \"python\", 31, 14, \"data\", True]\n",
    "print(a)"
   ],
   "metadata": {
    "collapsed": false,
    "ExecuteTime": {
     "end_time": "2024-01-15T12:11:22.266133200Z",
     "start_time": "2024-01-15T12:11:22.234276Z"
    }
   },
   "id": "f3f465e59de32a68"
  },
  {
   "cell_type": "markdown",
   "source": [
    "4-) List elements can be accessed through an index.\n",
    "\n",
    "Elements can be accessed using zero-based indexing in square brackets, similar to a string.\n",
    "\n",
    "A negative list index counts from the end of the list.\n",
    "\n",
    "Lists also support slicing.\n",
    "\n",
    "If abc is a list, the expression `abc[x:y]` will return the portion of elements from index x to index y (not including index y). "
   ],
   "metadata": {
    "collapsed": false
   },
   "id": "6729c6c35894642e"
  },
  {
   "cell_type": "code",
   "execution_count": 28,
   "outputs": [],
   "source": [
    "a = ['data', 'structures', 'using', 'python', 'happy', 'learning']\n"
   ],
   "metadata": {
    "collapsed": false,
    "ExecuteTime": {
     "end_time": "2024-01-15T12:27:38.166208300Z",
     "start_time": "2024-01-15T12:27:38.088055100Z"
    }
   },
   "id": "d5529f3def9c2f0e"
  },
  {
   "cell_type": "code",
   "execution_count": 29,
   "outputs": [
    {
     "name": "stdout",
     "output_type": "stream",
     "text": [
      "data\n"
     ]
    }
   ],
   "source": [
    "print(a[0])"
   ],
   "metadata": {
    "collapsed": false,
    "ExecuteTime": {
     "end_time": "2024-01-15T12:27:40.129778900Z",
     "start_time": "2024-01-15T12:27:40.066753500Z"
    }
   },
   "id": "6df564c99c23e63c"
  },
  {
   "cell_type": "code",
   "execution_count": 30,
   "outputs": [
    {
     "name": "stdout",
     "output_type": "stream",
     "text": [
      "using\n"
     ]
    }
   ],
   "source": [
    "print(a[2])"
   ],
   "metadata": {
    "collapsed": false,
    "ExecuteTime": {
     "end_time": "2024-01-15T12:27:45.591085Z",
     "start_time": "2024-01-15T12:27:45.543774400Z"
    }
   },
   "id": "5063a85dccdc464b"
  },
  {
   "cell_type": "code",
   "execution_count": 31,
   "outputs": [
    {
     "name": "stdout",
     "output_type": "stream",
     "text": [
      "learning\n"
     ]
    }
   ],
   "source": [
    "print(a[-1])"
   ],
   "metadata": {
    "collapsed": false,
    "ExecuteTime": {
     "end_time": "2024-01-15T12:27:47.735250600Z",
     "start_time": "2024-01-15T12:27:47.656602400Z"
    }
   },
   "id": "38cc5f0e7679f06c"
  },
  {
   "cell_type": "code",
   "execution_count": 32,
   "outputs": [
    {
     "name": "stdout",
     "output_type": "stream",
     "text": [
      "structures\n"
     ]
    }
   ],
   "source": [
    "print(a[-5])"
   ],
   "metadata": {
    "collapsed": false,
    "ExecuteTime": {
     "end_time": "2024-01-15T12:27:54.669642200Z",
     "start_time": "2024-01-15T12:27:54.622760Z"
    }
   },
   "id": "388f9562b0b09dfc"
  },
  {
   "cell_type": "code",
   "execution_count": 33,
   "outputs": [
    {
     "name": "stdout",
     "output_type": "stream",
     "text": [
      "['python', 'happy']\n"
     ]
    }
   ],
   "source": [
    "print(a[-3:-1])"
   ],
   "metadata": {
    "collapsed": false,
    "ExecuteTime": {
     "end_time": "2024-01-15T12:28:14.502227500Z",
     "start_time": "2024-01-15T12:28:14.455306800Z"
    }
   },
   "id": "bc2456883cd9d404"
  },
  {
   "cell_type": "markdown",
   "source": [
    "5-) Lists are mutable.\n",
    "\n",
    "Single list value: Elements in a list can be updated through indexing and simple assignment.\n",
    "\n",
    "Modifying multiple list values is also possible through slicing."
   ],
   "metadata": {
    "collapsed": false
   },
   "id": "87a16012371184e9"
  },
  {
   "cell_type": "code",
   "execution_count": 34,
   "outputs": [],
   "source": [
    "a = ['data', 'and', 'book', 'structure', 'hello', 'st']"
   ],
   "metadata": {
    "collapsed": false,
    "ExecuteTime": {
     "end_time": "2024-01-15T12:29:35.949239400Z",
     "start_time": "2024-01-15T12:29:35.870696Z"
    }
   },
   "id": "70ea9c60a203e10b"
  },
  {
   "cell_type": "code",
   "execution_count": 35,
   "outputs": [
    {
     "name": "stdout",
     "output_type": "stream",
     "text": [
      "['data', 'and', 'book', 'structure', 'hello', 'st']\n"
     ]
    }
   ],
   "source": [
    "print(a)"
   ],
   "metadata": {
    "collapsed": false,
    "ExecuteTime": {
     "end_time": "2024-01-15T12:29:39.814117500Z",
     "start_time": "2024-01-15T12:29:39.735577600Z"
    }
   },
   "id": "850217d4856d8a56"
  },
  {
   "cell_type": "code",
   "execution_count": 36,
   "outputs": [],
   "source": [
    "a[1] = 1"
   ],
   "metadata": {
    "collapsed": false,
    "ExecuteTime": {
     "end_time": "2024-01-15T12:29:51.216303500Z",
     "start_time": "2024-01-15T12:29:51.121941200Z"
    }
   },
   "id": "be8039a411da159b"
  },
  {
   "cell_type": "code",
   "execution_count": 37,
   "outputs": [
    {
     "name": "stdout",
     "output_type": "stream",
     "text": [
      "['data', 1, 'book', 'structure', 'hello', 'st']\n"
     ]
    }
   ],
   "source": [
    "print(a)"
   ],
   "metadata": {
    "collapsed": false,
    "ExecuteTime": {
     "end_time": "2024-01-15T12:29:53.211610200Z",
     "start_time": "2024-01-15T12:29:53.137141700Z"
    }
   },
   "id": "6288d7a82857d34"
  },
  {
   "cell_type": "code",
   "execution_count": 38,
   "outputs": [],
   "source": [
    "a = ['data', 'and', 'book', 'structure', 'hello', 'st']"
   ],
   "metadata": {
    "collapsed": false,
    "ExecuteTime": {
     "end_time": "2024-01-15T12:30:21.817625200Z",
     "start_time": "2024-01-15T12:30:21.723515300Z"
    }
   },
   "id": "c5f999329ae936"
  },
  {
   "cell_type": "code",
   "execution_count": 39,
   "outputs": [],
   "source": [
    "a[2:5] = [1, 2, 3, 4 , 5]"
   ],
   "metadata": {
    "collapsed": false,
    "ExecuteTime": {
     "end_time": "2024-01-15T12:30:43.727901Z",
     "start_time": "2024-01-15T12:30:43.617661300Z"
    }
   },
   "id": "aff47ce74956ec6b"
  },
  {
   "cell_type": "code",
   "execution_count": 40,
   "outputs": [
    {
     "name": "stdout",
     "output_type": "stream",
     "text": [
      "['data', 'and', 1, 2, 3, 4, 5, 'st']\n"
     ]
    }
   ],
   "source": [
    "print(a)"
   ],
   "metadata": {
    "collapsed": false,
    "ExecuteTime": {
     "end_time": "2024-01-15T12:30:44.846710500Z",
     "start_time": "2024-01-15T12:30:44.768150900Z"
    }
   },
   "id": "9673849ac1e1f4c7"
  },
  {
   "cell_type": "markdown",
   "source": [
    "6-) Lists can use other operators.\n",
    "\n",
    "Several operators and built-in functions can also be applied in lists, such as in, not in, concatenation (+), and replication (*) operators. \n",
    "\n",
    "Moreover, other built-in functions, such as len(), min(), and max(), are also available."
   ],
   "metadata": {
    "collapsed": false
   },
   "id": "89a4d9c1ef110b9f"
  },
  {
   "cell_type": "code",
   "execution_count": 41,
   "outputs": [],
   "source": [
    "a = ['data', 'structures', 'using', 'python', 'happy', 'learning']"
   ],
   "metadata": {
    "collapsed": false,
    "ExecuteTime": {
     "end_time": "2024-01-15T12:33:46.465148Z",
     "start_time": "2024-01-15T12:33:46.340231900Z"
    }
   },
   "id": "da8536a67eb36f33"
  },
  {
   "cell_type": "code",
   "execution_count": 42,
   "outputs": [
    {
     "name": "stdout",
     "output_type": "stream",
     "text": [
      "True\n"
     ]
    }
   ],
   "source": [
    "print('data' in a)\n"
   ],
   "metadata": {
    "collapsed": false,
    "ExecuteTime": {
     "end_time": "2024-01-15T12:33:57.098702700Z",
     "start_time": "2024-01-15T12:33:57.020584300Z"
    }
   },
   "id": "75620105671d0f88"
  },
  {
   "cell_type": "code",
   "execution_count": 43,
   "outputs": [
    {
     "name": "stdout",
     "output_type": "stream",
     "text": [
      "['data', 'structures', 'using', 'python', 'happy', 'learning']\n"
     ]
    }
   ],
   "source": [
    "print(a)"
   ],
   "metadata": {
    "collapsed": false,
    "ExecuteTime": {
     "end_time": "2024-01-15T12:34:05.060919400Z",
     "start_time": "2024-01-15T12:34:04.982755Z"
    }
   },
   "id": "980752ffc4af1ff1"
  },
  {
   "cell_type": "code",
   "execution_count": 44,
   "outputs": [
    {
     "name": "stdout",
     "output_type": "stream",
     "text": [
      "['data', 'structures', 'using', 'python', 'happy', 'learning', 'New', 'element']\n"
     ]
    }
   ],
   "source": [
    "print(a + ['New', 'element'])"
   ],
   "metadata": {
    "collapsed": false,
    "ExecuteTime": {
     "end_time": "2024-01-15T12:34:30.538380800Z",
     "start_time": "2024-01-15T12:34:30.429012700Z"
    }
   },
   "id": "91ad37988fc9209e"
  },
  {
   "cell_type": "code",
   "execution_count": 45,
   "outputs": [
    {
     "name": "stdout",
     "output_type": "stream",
     "text": [
      "['data', 'structures', 'using', 'python', 'happy', 'learning']\n"
     ]
    }
   ],
   "source": [
    "print(a)"
   ],
   "metadata": {
    "collapsed": false,
    "ExecuteTime": {
     "end_time": "2024-01-15T12:34:40.196850900Z",
     "start_time": "2024-01-15T12:34:40.134271800Z"
    }
   },
   "id": "4924cd38652269a9"
  },
  {
   "cell_type": "code",
   "execution_count": 46,
   "outputs": [
    {
     "name": "stdout",
     "output_type": "stream",
     "text": [
      "['data', 'structures', 'using', 'python', 'happy', 'learning', 'data', 'structures', 'using', 'python', 'happy', 'learning']\n"
     ]
    }
   ],
   "source": [
    "print(a * 2)"
   ],
   "metadata": {
    "collapsed": false,
    "ExecuteTime": {
     "end_time": "2024-01-15T12:34:43.577824400Z",
     "start_time": "2024-01-15T12:34:43.497045100Z"
    }
   },
   "id": "a68a46b632fb4309"
  },
  {
   "cell_type": "code",
   "execution_count": 47,
   "outputs": [
    {
     "name": "stdout",
     "output_type": "stream",
     "text": [
      "6\n"
     ]
    }
   ],
   "source": [
    "print(len(a))"
   ],
   "metadata": {
    "collapsed": false,
    "ExecuteTime": {
     "end_time": "2024-01-15T12:34:45.122472600Z",
     "start_time": "2024-01-15T12:34:45.044325200Z"
    }
   },
   "id": "6fb4a1f18c7f1571"
  },
  {
   "cell_type": "code",
   "execution_count": 48,
   "outputs": [
    {
     "name": "stdout",
     "output_type": "stream",
     "text": [
      "data\n"
     ]
    }
   ],
   "source": [
    "print(min(a))"
   ],
   "metadata": {
    "collapsed": false,
    "ExecuteTime": {
     "end_time": "2024-01-15T12:34:46.787533500Z",
     "start_time": "2024-01-15T12:34:46.740636300Z"
    }
   },
   "id": "aa7b050f4d3e0068"
  },
  {
   "cell_type": "markdown",
   "source": [
    "# Membership, Identity, and Logical Operators"
   ],
   "metadata": {
    "collapsed": false
   },
   "id": "4bafd11967dc9129"
  },
  {
   "cell_type": "markdown",
   "source": [
    "## Membership Operators\n",
    "\n"
   ],
   "metadata": {
    "collapsed": false
   },
   "id": "bce6fd119de55a9e"
  },
  {
   "cell_type": "markdown",
   "source": [
    "These operators are used to validate the membership of an item.\n",
    "\n",
    "Membership means we wish to test if a given value is stored in the sequence variable, such as string, list or tuple.\n",
    "\n",
    "Two common membership operators used in Python are `in` and `not in`.\n",
    "\n"
   ],
   "metadata": {
    "collapsed": false
   },
   "id": "e598280d21ebb6f"
  },
  {
   "cell_type": "markdown",
   "source": [
    "The `in` operator is used to check whether a value exists in a sequence.\n",
    "\n",
    "It returns `True` if it find the given variable in the specified sequence, and `False` if it does not."
   ],
   "metadata": {
    "collapsed": false
   },
   "id": "f6832c72bb7d836"
  },
  {
   "cell_type": "code",
   "execution_count": 50,
   "outputs": [
    {
     "name": "stdout",
     "output_type": "stream",
     "text": [
      "Elements are not overlapping\n"
     ]
    }
   ],
   "source": [
    "mylist1 = [100, 20, 30, 40]\n",
    "mylist2 = [10, 50, 60, 90]\n",
    "\n",
    "if mylist1[1] in mylist2:\n",
    "    print(\"Elements are overlapping\")\n",
    "else:\n",
    "    print(\"Elements are not overlapping\")"
   ],
   "metadata": {
    "collapsed": false,
    "ExecuteTime": {
     "end_time": "2024-01-16T16:56:39.920359400Z",
     "start_time": "2024-01-16T16:56:39.904733300Z"
    }
   },
   "id": "ebdaf0c84a677ca1"
  },
  {
   "cell_type": "markdown",
   "source": [
    "The `not in` operator returns to `True` if it does not find a variable in the specified sequence and `False` if it is found."
   ],
   "metadata": {
    "collapsed": false
   },
   "id": "e9336d85620375"
  },
  {
   "cell_type": "code",
   "execution_count": 52,
   "outputs": [
    {
     "name": "stdout",
     "output_type": "stream",
     "text": [
      "Value is NOT in the list\n"
     ]
    }
   ],
   "source": [
    "val = 1069\n",
    "mylist = [100, 210, 430, 840, 108]\n",
    "\n",
    "if val not in mylist:\n",
    "    print(\"Value is NOT in the list\")\n",
    "else:\n",
    "    print(\"Value is in the list\")"
   ],
   "metadata": {
    "collapsed": false,
    "ExecuteTime": {
     "end_time": "2024-01-16T16:58:48.519924100Z",
     "start_time": "2024-01-16T16:58:48.488670200Z"
    }
   },
   "id": "e5bc04f64f88009e"
  },
  {
   "cell_type": "markdown",
   "source": [
    "## Identity Operators"
   ],
   "metadata": {
    "collapsed": false
   },
   "id": "4bde8bce5d1789b9"
  },
  {
   "cell_type": "markdown",
   "source": [
    "Identity operators are used to compare objects. The different types of identity operators are `is` and `is not`.\n",
    "\n",
    "The `is` operator is used to check whether two variables refer to the same object.\n",
    "\n",
    "It returns `True` if the two variables refer to the same object, and `False` if they do not.\n",
    "\n",
    "This is different from the equality operator `==`, which compares the values of two variables."
   ],
   "metadata": {
    "collapsed": false
   },
   "id": "6ca8a4ffc82e9693"
  },
  {
   "cell_type": "code",
   "execution_count": 53,
   "outputs": [
    {
     "name": "stdout",
     "output_type": "stream",
     "text": [
      "Both are equal\n",
      "Both variables are not pointing to the same object\n",
      "Both are not pointing to the same object\n"
     ]
    }
   ],
   "source": [
    "Firstlist = []\n",
    "Secondlist = []\n",
    "\n",
    "if Firstlist == Secondlist: \n",
    "    print(\"Both are equal\")\n",
    "else:\n",
    "    print(\"Both are not equal\")\n",
    "    \n",
    "if Firstlist is Secondlist:\n",
    "    print(\"Both variables are pointing to the same object\")\n",
    "else:\n",
    "    print(\"Both variables are not pointing to the same object\")\n",
    "    \n",
    "thirdList = Firstlist\n",
    "\n",
    "if thirdList is Secondlist:\n",
    "    print(\"Both are pointing to the same object\")\n",
    "else:\n",
    "    print(\"Both are not pointing to the same object\")\n"
   ],
   "metadata": {
    "collapsed": false,
    "ExecuteTime": {
     "end_time": "2024-01-16T17:02:54.425549Z",
     "start_time": "2024-01-16T17:02:54.283555700Z"
    }
   },
   "id": "8557487b57c21616"
  },
  {
   "cell_type": "code",
   "execution_count": null,
   "outputs": [],
   "source": [],
   "metadata": {
    "collapsed": false
   },
   "id": "ba030244888f9aa1"
  }
 ],
 "metadata": {
  "kernelspec": {
   "display_name": "Python 3",
   "language": "python",
   "name": "python3"
  },
  "language_info": {
   "codemirror_mode": {
    "name": "ipython",
    "version": 2
   },
   "file_extension": ".py",
   "mimetype": "text/x-python",
   "name": "python",
   "nbconvert_exporter": "python",
   "pygments_lexer": "ipython2",
   "version": "2.7.6"
  }
 },
 "nbformat": 4,
 "nbformat_minor": 5
}
