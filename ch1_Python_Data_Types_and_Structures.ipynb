{
 "cells": [
  {
   "cell_type": "markdown",
   "source": [
    "# PYTHON DATA TYPES and STRUCTURES"
   ],
   "metadata": {
    "collapsed": false
   },
   "id": "d0ad93db953ebb2a"
  },
  {
   "cell_type": "markdown",
   "source": [
    "An algorithm can be defined as a set of step by step instructions to solve any given problem.\n",
    "\n",
    "An algorithm processes the data and produces the output results based on the specific problem.\n",
    "\n",
    "Data structures deal with how the data is stored and organized in the memory of computer that is going to be used in a program. \n",
    "\n",
    "The data used by the algorithm to solve problem has to be stored and organized efficiently in the computer memory for the efficient implementation of the software.\n",
    "\n",
    "The performance of the system depends upon the efficient access and retrival of the data, and that depends upon how well the data structures that store and organize the data in the system are chosen.\n"
   ],
   "metadata": {
    "collapsed": false
   },
   "id": "4bf9471c34126208"
  },
  {
   "cell_type": "markdown",
   "source": [
    "# Overview of Data Types and Objects"
   ],
   "metadata": {
    "collapsed": false
   },
   "id": "a7942175b92dbecc"
  },
  {
   "cell_type": "markdown",
   "source": [
    "The performance or efficiency of the computer program also depends highly on how the data is stored in the memory of a computer, which is then going to be used in the algorithm.\n",
    "\n",
    "The data to be used in an algorithm has to be stored in variables, which differ depending upon what kind of values are going to be stored in those variables.\n",
    "\n",
    "These are called **data types**.\n",
    "\n",
    "The variables are containers that can store the values, and the values are the contents of different data types.\n",
    "\n",
    "In Python, data types of the variable type can be checked using the type() function. "
   ],
   "metadata": {
    "collapsed": false
   },
   "id": "82b8ddda3ef90f6d"
  },
  {
   "cell_type": "code",
   "execution_count": 1,
   "outputs": [],
   "source": [
    "p = \"Hello World\"\n",
    "q = 10\n",
    "r = 986.89"
   ],
   "metadata": {
    "collapsed": false,
    "ExecuteTime": {
     "end_time": "2024-01-14T14:23:04.982421600Z",
     "start_time": "2024-01-14T14:23:04.966781300Z"
    }
   },
   "id": "5338b90a0887e7f8"
  },
  {
   "cell_type": "code",
   "execution_count": 2,
   "outputs": [
    {
     "name": "stdout",
     "output_type": "stream",
     "text": [
      "<class 'str'>\n",
      "<class 'int'>\n",
      "<class 'float'>\n"
     ]
    }
   ],
   "source": [
    "print(type(p))\n",
    "print(type(q))\n",
    "print(type(r))"
   ],
   "metadata": {
    "collapsed": false,
    "ExecuteTime": {
     "end_time": "2024-01-14T14:23:08.790611200Z",
     "start_time": "2024-01-14T14:23:08.603129900Z"
    }
   },
   "id": "d1bf43a6b9f9a3be"
  },
  {
   "cell_type": "markdown",
   "source": [
    "In Python, every item of data is an object of a specific type.\n",
    "\n",
    "The principal built-in types are as follows and will be discussed in more detail in the following sections:\n",
    "\n",
    "- Numeric Types: Integer, Float, Complex\n",
    "- Boolean Type: Bool\n",
    "- Sequence Types: String, List, Tuple, Range\n",
    "- Mapping Type: Dictionary\n",
    "- Set Types: Set, Frozen Set\n"
   ],
   "metadata": {
    "collapsed": false
   },
   "id": "fb27052f4d9896f7"
  },
  {
   "cell_type": "markdown",
   "source": [
    "# Basic Data Types"
   ],
   "metadata": {
    "collapsed": false
   },
   "id": "28bd75d8f476f3b0"
  },
  {
   "cell_type": "code",
   "execution_count": null,
   "outputs": [],
   "source": [],
   "metadata": {
    "collapsed": false
   },
   "id": "3f698757275114b5"
  }
 ],
 "metadata": {
  "kernelspec": {
   "display_name": "Python 3",
   "language": "python",
   "name": "python3"
  },
  "language_info": {
   "codemirror_mode": {
    "name": "ipython",
    "version": 2
   },
   "file_extension": ".py",
   "mimetype": "text/x-python",
   "name": "python",
   "nbconvert_exporter": "python",
   "pygments_lexer": "ipython2",
   "version": "2.7.6"
  }
 },
 "nbformat": 4,
 "nbformat_minor": 5
}
