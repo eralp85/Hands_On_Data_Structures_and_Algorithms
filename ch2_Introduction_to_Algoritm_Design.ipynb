{
 "cells": [
  {
   "cell_type": "markdown",
   "source": [
    "# INTRODUCTION TO ALGORTIHM DESIGN\n"
   ],
   "metadata": {
    "collapsed": false
   },
   "id": "c174b0ac9e3b5ce4"
  },
  {
   "cell_type": "markdown",
   "source": [
    "Beg'nn'e"
   ],
   "metadata": {
    "collapsed": false
   },
   "id": "9832be8ffc465f51"
  }
 ],
 "metadata": {
  "kernelspec": {
   "display_name": "Python 3",
   "language": "python",
   "name": "python3"
  },
  "language_info": {
   "codemirror_mode": {
    "name": "ipython",
    "version": 2
   },
   "file_extension": ".py",
   "mimetype": "text/x-python",
   "name": "python",
   "nbconvert_exporter": "python",
   "pygments_lexer": "ipython2",
   "version": "2.7.6"
  }
 },
 "nbformat": 4,
 "nbformat_minor": 5
}
