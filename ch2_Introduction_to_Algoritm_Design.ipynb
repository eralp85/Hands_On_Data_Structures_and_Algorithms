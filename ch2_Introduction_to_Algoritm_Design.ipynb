{
 "cells": [
  {
   "cell_type": "markdown",
   "source": [
    "# INTRODUCTION TO ALGORTIHM DESIGN\n"
   ],
   "metadata": {
    "collapsed": false
   },
   "id": "c174b0ac9e3b5ce4"
  },
  {
   "cell_type": "markdown",
   "source": [
    "Given input data, an algorithm is a step by step set of instructions that should be executed in sequence to solve a given problem.\n",
    "\n",
    "There can be many possible correct solutions for a given problem, we can have several algorithms for the problem for sorting, searching, etc."
   ],
   "metadata": {
    "collapsed": false
   },
   "id": "9832be8ffc465f51"
  },
  {
   "cell_type": "markdown",
   "source": [
    "# Introducing Algorithms"
   ],
   "metadata": {
    "collapsed": false
   },
   "id": "8be7abb2e58509e7"
  },
  {
   "cell_type": "markdown",
   "source": [
    "An algorithm is a sequence of steps that should be followed in order to complete a given problem.\n",
    "\n",
    "It is a well defined procedure that takes input data, processes it, and produces desired output.\n",
    "\n",
    "An efficient algorith should have following characteristics:\n",
    "\n",
    "- It should be as specific as possible\n",
    "- It should have each instruction properly defined\n",
    "- There should not be any ambiguous instructions\n",
    "- All the instructions of the algorithm should be executable in a finite amount of time and in a finite number of steps.\n",
    "- It should have clear inputs and output to solve the problem.\n",
    "- Each instruction of the algorithm should be integral in solving the given problem.\n",
    "\n",
    "\n",
    "The cost of executing different algorithms may be different; it may be measured in terms of the time required to run the algorithm on a computer system and the memory space required for it.\n",
    "\n",
    "There are primarily two things that one should keep in mind while designing an efficient algorithm:\n",
    "\n",
    "1- The algorithm should be correct and should produce the results as expected for all valid input values.\n",
    "\n",
    "2- The algorithm should be optimal in the sense that it should be executed on the computer withing the desired time limit in line with an optimal memory space requirement.\n",
    "\n"
   ],
   "metadata": {
    "collapsed": false
   },
   "id": "f78d4d58b3554753"
  },
  {
   "cell_type": "markdown",
   "source": [
    "# Performance Analysis of an Algorithm"
   ],
   "metadata": {
    "collapsed": false
   },
   "id": "1be5b59de7798707"
  },
  {
   "cell_type": "markdown",
   "source": [
    "The performance of an algorithm is generally measured by the size of its input data, n, and the time and the memory space used by the algorithm.\n",
    "\n",
    "The *TIME REQUIRED* is measured by the key operations to be performed by the algorithm, (such as comparisons, assignments, and arithmetic operations) where key operations are instructions that take a significant amount of time during execution.\n",
    "\n",
    "Whereas *SPACE REQUIRED* is measured by the memory needed to store the variables, constants and instructions during the execution of the algorithm."
   ],
   "metadata": {
    "collapsed": false
   },
   "id": "d1c46985c3385948"
  },
  {
   "cell_type": "markdown",
   "source": [
    "## TIME COMPLEXITY"
   ],
   "metadata": {
    "collapsed": false
   },
   "id": "b98e1f977cbe652b"
  },
  {
   "cell_type": "markdown",
   "source": [
    "The time complexity of the algorithm is the amount of time that an algorithm will take to execute on a computer system to produce the output.\n",
    "\n",
    "The aim of analyzing the time complexity of the algorithm is to determine, for a given problem and more han one algorithm, which one of the algorithms is the most efficient with respect to the time required to execute.\n",
    "\n",
    "The running time required by an algorithm depends on the input size, as the input size, n, increases, the runtime also increases.\n",
    "\n",
    "Input size is measured as the number of items in the input, for example, the inout size for a sorting algorithm will be the number of items in the input.\n",
    "\n",
    "So, a sorting algorithm will have an increased runtime to sort a list of input size 5000 than that of a list of input size 50.\n",
    "\n",
    "The runtime of an algorithm for a specific input depends on the key operations to be executed in the algorithm.\n",
    "\n",
    "For example, the key operation for a sorting algorithm is a comparison operation that will take up most of the runtime compared to assignment or any other operation.\n",
    "\n",
    "Ideally, these key operations should not depend upon the hardware, the operating system, or the programming language being used to implement the algorithm.\n",
    "\n",
    "A constant amount of time is required to execute each line of code; however, each line may take a different amount of time to execute.\n",
    "\n",
    "In order to understand the running time required for an algorithm, consider below code:"
   ],
   "metadata": {
    "collapsed": false
   },
   "id": "38ff1e90bdad90ce"
  },
  {
   "cell_type": "code",
   "execution_count": 36,
   "outputs": [
    {
     "name": "stdout",
     "output_type": "stream",
     "text": [
      "structure\n"
     ]
    }
   ],
   "source": [
    "n = 1\n",
    "\n",
    "if n==0 | n == 3:           \n",
    "  print(\"data\") #constant time\n",
    "else:\n",
    "  for i in range(n):      \n",
    "     print(\"structure\") #loop run for n times\n"
   ],
   "metadata": {
    "collapsed": false,
    "ExecuteTime": {
     "end_time": "2024-02-18T18:30:02.970582200Z",
     "start_time": "2024-02-18T18:30:02.895543700Z"
    }
   },
   "id": "9e8edb483f8bb5d2"
  },
  {
   "cell_type": "markdown",
   "source": [
    "In above example, if the condition is true then \"data\" will be printed, and if the condition is not ture then the for loop will execute n times.\n",
    "\n",
    "The time required by the algorithm depends on the time required for each statement, and how many times each statement is executed.\n",
    "\n",
    "*The running time of the algorithm is the sum of time required by all the statements.*\n",
    "\n",
    "For the above code, assume that statement 1 takes c1 unit of time, statement 2 takes c2 unit of time, and so on.\n",
    "\n",
    "As such, if the $i^{th}$ statement takes a constant amount of time $c_i$ and if the $i^{th}$ statement is executed n times, then it will take $c_i*n$ time.\n",
    "\n",
    "The total running time of T(n) of the algorithm for a given value of  n (assuming the value of n is not zero or three) will be:\n",
    "//\n",
    "\n",
    "\n",
    "$\n",
    "T(n) = c_1 + c_3 + c_4*n + c_5*n\n",
    "$\n",
    "\n",
    "//\n",
    "\n",
    "If the value of n is equal to zero or three, then the time required by the algorithm  will be:\n",
    "\n",
    "//\n",
    "$\n",
    "T(n) = c_1 + c_2\n",
    "$ \n",
    "//\n",
    "\n",
    "Therefore, the running time required for an algorithm also depends upon what input is given in addition to the size of the input given.\n",
    "\n",
    "For the given example, the best case wil be when the input is either zero or three, and in that case, the running time will be $c_1 + c_2$, which is a constant amount of time.\n",
    "\n",
    "In the worst case, the value of n is not equeal to zero or three, then the running time of the algorithm can be represented as a*n +b.\n",
    "\n",
    "Here, the values of a and b are constants that depend  on the statement costs and constant times are not considered in the final time complexity.\n",
    "\n",
    "In the worst case, the runtime required by the algorithm is a linear function of n.\n",
    "\n",
    "Let's consider another example, linear search:\n",
    "\n"
   ],
   "metadata": {
    "collapsed": false
   },
   "id": "82d5a75157c966e5"
  },
  {
   "cell_type": "code",
   "execution_count": 41,
   "outputs": [
    {
     "name": "stdout",
     "output_type": "stream",
     "text": [
      "Index position of the element x is: 4\n"
     ]
    }
   ],
   "source": [
    "def linear_search(input_list, element):\n",
    "    for index, value in enumerate(input_list):\n",
    "        if value == element:\n",
    "            return index\n",
    "    \n",
    "    return -1\n",
    "\n",
    "input_list = [3,4,1,6,14]\n",
    "element = 14\n",
    "\n",
    "print(\"Index position of the element x is:\", linear_search(input_list, element))"
   ],
   "metadata": {
    "collapsed": false,
    "ExecuteTime": {
     "end_time": "2024-02-19T02:54:53.215454600Z",
     "start_time": "2024-02-19T02:54:53.168558600Z"
    }
   },
   "id": "5095106a680fb536"
  },
  {
   "cell_type": "markdown",
   "source": [
    "The **worst-case running time** of the algorithm is the upper bound complexity; it is the maximum runtime required for an algorithm to execute for any given input. \n",
    "\n",
    "The worst-case time complexity is very useful in that it guarantees that for any input data, the runtime required will not take more time as compared to the worst-case running time.\n",
    "\n",
    "For example, in the linear search problem, the worst case occurs, when the element to be searched is found in the last comparison or not found in the list.\n",
    "\n",
    "In this case, the running time required will linearly depend upon the length of the list, whereas, in the best case, the search element will be found in the first comparison.\n",
    "\n",
    "the **average-case running time** \n",
    "s the average running time required for an algorithm to execute.\n",
    "\n",
    "In this analysis, we compute the average over the running time for all possible input values.\n",
    "\n",
    "Generally, probabilistic analysis is used to analyze the average-case running time f an algorithm, which is computed by averaging the cost ove the distribution of all possible inputs.\n",
    "\n",
    "For example, in the linear search problem, the number of comparisons at all positions would be 1 if the element to be searched was found at the $0^{th}$ index, and similarly, the number of comparisons would be 2,3 and so forth up to n respectively, for the elements found at 1,2,3, ... (n-1) index position.\n",
    "\n",
    "Thus, average case running time is as follows:\n",
    "//\n",
    "$\n",
    "\n",
    "T(n) = \\frac{1+2+3+...+n}{n} = \\frac{n(n+1)}{2n}\n",
    "\n",
    "$\n",
    "//\n",
    "  \n",
    "For average case, the running time required is also linearly dependent upon the value of n.\n",
    "\n",
    "However, in most real world applications, worst case analysis is mostly used, since it gives a guarantee that the running time will not take any longer than the worst case running time of the algorithm for any input value.\n",
    "\n",
    "**Best-case running time** is the minimum time needed for an algorithm to execute for any input value.\n",
    "\n",
    "It is the lower bound on the running time required for an algorithm; in the example above, the input data is organized in such a way that it takes its minimum running time to execute the given algorithm."
   ],
   "metadata": {
    "collapsed": false
   },
   "id": "29834139d654577"
  },
  {
   "cell_type": "markdown",
   "source": [
    "## SPACE COMPLEXITY"
   ],
   "metadata": {
    "collapsed": false
   },
   "id": "3ecaae92ddce83e7"
  },
  {
   "cell_type": "markdown",
   "source": [
    "While executing the algorithm on the computer system, storage of the input is required, along with intermediate and temporary data in data structures, which are stored in the memory of the computer. \n",
    "\n",
    "In order to write a programming solution for any problem, some memory is required for storing variables, program instructions, and executing the program on the computer. \n",
    "\n",
    "The space complexity of an algorithm is the amount of memory required for executing and producing the result.\n",
    "\n",
    "For computing the space complexity, consider the following example, in which, given a list of integer values, the function returns the square value of the corresponding integer number."
   ],
   "metadata": {
    "collapsed": false
   },
   "id": "132affbcc25ad0a0"
  },
  {
   "cell_type": "code",
   "execution_count": 43,
   "outputs": [
    {
     "name": "stdout",
     "output_type": "stream",
     "text": [
      "[4, 9, 25, 64]\n"
     ]
    }
   ],
   "source": [
    "def square_list(n):\n",
    "    sequare_numbers = []\n",
    "    for number in n:\n",
    "        sequare_numbers.append(number*number)\n",
    "    return sequare_numbers\n",
    "\n",
    "numbers = [2,3,5,8]\n",
    "\n",
    "print(square_list(numbers))"
   ],
   "metadata": {
    "collapsed": false,
    "ExecuteTime": {
     "end_time": "2024-02-19T03:35:15.223358400Z",
     "start_time": "2024-02-19T03:35:15.176472700Z"
    }
   },
   "id": "933af21a6ad02443"
  },
  {
   "cell_type": "code",
   "execution_count": null,
   "outputs": [],
   "source": [],
   "metadata": {
    "collapsed": false
   },
   "id": "7915b8a600b564bc"
  }
 ],
 "metadata": {
  "kernelspec": {
   "display_name": "Python 3",
   "language": "python",
   "name": "python3"
  },
  "language_info": {
   "codemirror_mode": {
    "name": "ipython",
    "version": 2
   },
   "file_extension": ".py",
   "mimetype": "text/x-python",
   "name": "python",
   "nbconvert_exporter": "python",
   "pygments_lexer": "ipython2",
   "version": "2.7.6"
  }
 },
 "nbformat": 4,
 "nbformat_minor": 5
}
