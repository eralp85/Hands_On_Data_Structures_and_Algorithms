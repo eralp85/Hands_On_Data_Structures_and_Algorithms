{
 "cells": [
  {
   "cell_type": "markdown",
   "source": [
    "# INTRODUCTION TO ALGORTIHM DESIGN\n"
   ],
   "metadata": {
    "collapsed": false
   },
   "id": "c174b0ac9e3b5ce4"
  },
  {
   "cell_type": "markdown",
   "source": [
    "Given input data, an algorithm is a step by step set of instructions that should be executed in sequence to solve a given problem.\n",
    "\n",
    "There can be many possible correct solutions for a given problem, we can have several algorithms for the problem for sorting, searching, etc."
   ],
   "metadata": {
    "collapsed": false
   },
   "id": "9832be8ffc465f51"
  },
  {
   "cell_type": "markdown",
   "source": [
    "# Introducing Algorithms"
   ],
   "metadata": {
    "collapsed": false
   },
   "id": "8be7abb2e58509e7"
  },
  {
   "cell_type": "markdown",
   "source": [
    "An algorithm is a sequence of steps that should be followed in order to complete a given problem.\n",
    "\n",
    "It is a well defined procedure that takes input data, processes it, and produces desired output.\n",
    "\n",
    "An efficient algorith should have following characteristics:\n",
    "\n",
    "- It should be as specific as possible\n",
    "- It should have each instruction properly defined\n",
    "- There should not be any ambiguous instructions\n",
    "- All the instructions of the algorithm should be executable in a finite amount of time and in a finite number of steps.\n",
    "- It should have clear inputs and output to solve the problem.\n",
    "- Each instruction of the algorithm should be integral in solving the given problem.\n",
    "\n",
    "\n",
    "The cost of executing different algorithms may be different; it may be measured in terms of the time required to run the algorithm on a computer system and the memory space required for it.\n",
    "\n",
    "There are primarily two things that one should keep in mind while designing an efficient algorithm:\n",
    "\n",
    "1- The algorithm should be correct and should produce the results as expected for all valid input values.\n",
    "\n",
    "2- The algorithm should be optimal in the sense that it should be executed on the computer withing the desired time limit in line with an optimal memory space requirement.\n",
    "\n"
   ],
   "metadata": {
    "collapsed": false
   },
   "id": "f78d4d58b3554753"
  },
  {
   "cell_type": "markdown",
   "source": [
    "# Performance Analysis of an Algorithm"
   ],
   "metadata": {
    "collapsed": false
   },
   "id": "1be5b59de7798707"
  },
  {
   "cell_type": "markdown",
   "source": [
    "The performance of an algorithm is generally measured by the size of its input data, n, and the time and the memory space used by the algorithm.\n",
    "\n",
    "The *TIME REQUIRED* is measured by the key operations to be performed by the algorithm, (such as comparisons, assignments, and arithmetic operations) where key operations are instructions that take a significant amount of time during execution.\n",
    "\n",
    "Whereas *SPACE REQUIRED* is measured by the memory needed to store the variables, constants and instructions during the execution of the algorithm."
   ],
   "metadata": {
    "collapsed": false
   },
   "id": "d1c46985c3385948"
  },
  {
   "cell_type": "markdown",
   "source": [
    "## TIME COMPLEXITY"
   ],
   "metadata": {
    "collapsed": false
   },
   "id": "b98e1f977cbe652b"
  },
  {
   "cell_type": "markdown",
   "source": [
    "The time complexity of the algorithm is the amount of time that an algorithm will take to execute on a computer system to produce the output.\n",
    "\n",
    "The aim of analyzing the time complexity of the algorithm is to determine, for a given problem and more han one algorithm, which one of the algorithms is the most efficient with respect to the time required to execute.\n",
    "\n",
    "The running time required by an algorithm depends on the input size, as the input size, n, increases, the runtime also increases.\n",
    "\n",
    "Input size is measured as the number of items in the input, for example, the inout size for a sorting algorithm will be the number of items in the input.\n",
    "\n",
    "So, a sorting algorithm will have an increased runtime to sort a list of input size 5000 than that of a list of input size 50.\n",
    "\n",
    "The runtime of an algorithm for a specific input depends on the key operations to be executed in the algorithm.\n",
    "\n",
    "For example, the key operation for a sorting algorithm is a comparison operation that will take up most of the runtime compared to assignment or any other operation.\n",
    "\n",
    "Ideally, these key operations should not depend upon the hardware, the operating system, or the programming language being used to implement the algorithm.\n",
    "\n",
    "A constant amount of time is required to execute each line of code; however, each line may take a different amount of time to execute.\n",
    "\n",
    "In order to understand the running time required for an algorithm, consider below code:"
   ],
   "metadata": {
    "collapsed": false
   },
   "id": "38ff1e90bdad90ce"
  },
  {
   "cell_type": "code",
   "execution_count": 36,
   "outputs": [
    {
     "name": "stdout",
     "output_type": "stream",
     "text": [
      "structure\n"
     ]
    }
   ],
   "source": [
    "n = 1\n",
    "\n",
    "if n==0 | n == 3:           \n",
    "  print(\"data\") #constant time\n",
    "else:\n",
    "  for i in range(n):      \n",
    "     print(\"structure\") #loop run for n times\n"
   ],
   "metadata": {
    "collapsed": false,
    "ExecuteTime": {
     "end_time": "2024-02-18T18:30:02.970582200Z",
     "start_time": "2024-02-18T18:30:02.895543700Z"
    }
   },
   "id": "9e8edb483f8bb5d2"
  },
  {
   "cell_type": "markdown",
   "source": [
    "In above example, if the condition is true then \"data\" will be printed, and if the condition is not ture then the for loop will execute n times.\n",
    "\n",
    "The time required by the algorithm depends on the time required for each statement, and how many times each statement is executed.\n",
    "\n",
    "*The running time of the algorithm is the sum of time required by all the statements.*\n",
    "\n",
    "For the above code, "
   ],
   "metadata": {
    "collapsed": false
   },
   "id": "82d5a75157c966e5"
  }
 ],
 "metadata": {
  "kernelspec": {
   "display_name": "Python 3",
   "language": "python",
   "name": "python3"
  },
  "language_info": {
   "codemirror_mode": {
    "name": "ipython",
    "version": 2
   },
   "file_extension": ".py",
   "mimetype": "text/x-python",
   "name": "python",
   "nbconvert_exporter": "python",
   "pygments_lexer": "ipython2",
   "version": "2.7.6"
  }
 },
 "nbformat": 4,
 "nbformat_minor": 5
}
